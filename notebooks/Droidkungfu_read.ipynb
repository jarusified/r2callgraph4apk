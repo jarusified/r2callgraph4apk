{
 "cells": [
  {
   "cell_type": "code",
   "execution_count": 7,
   "metadata": {},
   "outputs": [],
   "source": [
    "import os\n",
    "import pandas as pd\n",
    "import json"
   ]
  },
  {
   "cell_type": "code",
   "execution_count": 18,
   "metadata": {},
   "outputs": [],
   "source": [
    "PWD = os.path.abspath(\"..\")\n",
    "DATA_DIR = os.path.join(PWD, \"data\")\n",
    "SAVE_DIR = os.path.join(DATA_DIR, \"droidkungfu\")"
   ]
  },
  {
   "cell_type": "code",
   "execution_count": 9,
   "metadata": {},
   "outputs": [],
   "source": [
    "import sys\n",
    "sys.path.append(PWD)"
   ]
  },
  {
   "cell_type": "code",
   "execution_count": 11,
   "metadata": {},
   "outputs": [],
   "source": [
    "from r2callgraph4apk import R2CallGraph4APK"
   ]
  },
  {
   "cell_type": "code",
   "execution_count": 12,
   "metadata": {},
   "outputs": [],
   "source": [
    "input_file = os.path.join(DATA_DIR, 'droidkungfu_10/benign.csv')"
   ]
  },
  {
   "cell_type": "code",
   "execution_count": 13,
   "metadata": {},
   "outputs": [],
   "source": [
    "df = pd.read_csv(input_file)"
   ]
  },
  {
   "cell_type": "code",
   "execution_count": 22,
   "metadata": {},
   "outputs": [
    {
     "name": "stdout",
     "output_type": "stream",
     "text": [
      "Found 1 malware(s)!!!\n",
      "Downloading the apk: FFE44A8695CCEB4979825C54A29B4CB9765057308A97E49F6C6C5C473DED0AB3\n",
      "Saved Benign apk in /Users/jarus/Work/r2callgraph4apk/data/droidkungfu/0/benign/FFE44A8695CCEB4979825C54A29B4CB9765057308A97E49F6C6C5C473DED0AB3\n",
      "Downloading the apk: 1CA20CC2CCF0E981781B25BAD314098A168B6FAF848393A37D19A302A40F3F4C\n",
      "Saved Malicious apk in /Users/jarus/Work/r2callgraph4apk/data/droidkungfu/0/malicious/1CA20CC2CCF0E981781B25BAD314098A168B6FAF848393A37D19A302A40F3F4C\n",
      "Found 1 malware(s)!!!\n",
      "Downloading the apk: 07335B8BB110400735447EDB8083FAFED6AFE4D7F6994E6B1FA9FCACF3D44671\n",
      "Saved Benign apk in /Users/jarus/Work/r2callgraph4apk/data/droidkungfu/1/benign/07335B8BB110400735447EDB8083FAFED6AFE4D7F6994E6B1FA9FCACF3D44671\n",
      "Downloading the apk: FFBC9D019FB9A46879788CC4AE7D74D97E95526084451845D9537F10E2A9E39E\n",
      "Saved Malicious apk in /Users/jarus/Work/r2callgraph4apk/data/droidkungfu/1/malicious/FFBC9D019FB9A46879788CC4AE7D74D97E95526084451845D9537F10E2A9E39E\n",
      "Found 1 malware(s)!!!\n",
      "Downloading the apk: F759EFD9102399B3A5299F34709201DEA31EC09225804074FCC5D916BF85D040\n",
      "Saved Benign apk in /Users/jarus/Work/r2callgraph4apk/data/droidkungfu/2/benign/F759EFD9102399B3A5299F34709201DEA31EC09225804074FCC5D916BF85D040\n",
      "Downloading the apk: 64EC79E51FD89B3E68A7EDE0F034EBD67D692487E162F97E05AD1A5327417101\n",
      "Saved Malicious apk in /Users/jarus/Work/r2callgraph4apk/data/droidkungfu/2/malicious/64EC79E51FD89B3E68A7EDE0F034EBD67D692487E162F97E05AD1A5327417101\n",
      "Found 1 malware(s)!!!\n",
      "Downloading the apk: E7D04C71982022CFE867324D6D6086F9C583CB0602C39CDE6BEA224ABAA35242\n",
      "Saved Benign apk in /Users/jarus/Work/r2callgraph4apk/data/droidkungfu/3/benign/E7D04C71982022CFE867324D6D6086F9C583CB0602C39CDE6BEA224ABAA35242\n",
      "Downloading the apk: 5FA145D23031D57DAD32EDB735A1C2C8D6FD1F5A18BA3A06CC120BAC92EF18B0\n",
      "Saved Malicious apk in /Users/jarus/Work/r2callgraph4apk/data/droidkungfu/3/malicious/5FA145D23031D57DAD32EDB735A1C2C8D6FD1F5A18BA3A06CC120BAC92EF18B0\n",
      "Found 1 malware(s)!!!\n",
      "Downloading the apk: 13FFC08C7D5779FDA1D542D67DB821959D3EFCC1C9438D0932C6144EF8CA465A\n",
      "Saved Benign apk in /Users/jarus/Work/r2callgraph4apk/data/droidkungfu/4/benign/13FFC08C7D5779FDA1D542D67DB821959D3EFCC1C9438D0932C6144EF8CA465A\n",
      "Downloading the apk: 245D37BA903E24CD5ACF66736403D2AE9D0EA39F5F37C7D4E4B9618B2FAFF20F\n",
      "Saved Malicious apk in /Users/jarus/Work/r2callgraph4apk/data/droidkungfu/4/malicious/245D37BA903E24CD5ACF66736403D2AE9D0EA39F5F37C7D4E4B9618B2FAFF20F\n",
      "Found 2 malware(s)!!!\n",
      "Downloading the apk: 87057929EFD04326DA2A553FF91B9027AF1AFDE0A6168046F18966F950CA0AF5\n",
      "Saved Benign apk in /Users/jarus/Work/r2callgraph4apk/data/droidkungfu/5/benign/87057929EFD04326DA2A553FF91B9027AF1AFDE0A6168046F18966F950CA0AF5\n",
      "Downloading the apk: 98FC6F1914B79690595A85972167523F45F659482F021950BB652158EE6BD54F\n",
      "Saved Malicious apk in /Users/jarus/Work/r2callgraph4apk/data/droidkungfu/5/malicious/98FC6F1914B79690595A85972167523F45F659482F021950BB652158EE6BD54F\n",
      "Downloading the apk: E1E840AF77AEFE106BA591747D55BB6E6E280190A7A845CD74C624F0E6205880\n",
      "Saved Malicious apk in /Users/jarus/Work/r2callgraph4apk/data/droidkungfu/5/malicious/E1E840AF77AEFE106BA591747D55BB6E6E280190A7A845CD74C624F0E6205880\n",
      "Found 1 malware(s)!!!\n",
      "Downloading the apk: 4386205544C7C60082E738DC43B59E5797CEB876AF6F18D4646F2D96E21B336A\n",
      "Saved Benign apk in /Users/jarus/Work/r2callgraph4apk/data/droidkungfu/6/benign/4386205544C7C60082E738DC43B59E5797CEB876AF6F18D4646F2D96E21B336A\n",
      "Downloading the apk: 8D31C14C35BDC682BCE3D7C2D1FCC05D6FBD0E9C6C1E1AB3FCD58F1076EBA782\n",
      "Saved Malicious apk in /Users/jarus/Work/r2callgraph4apk/data/droidkungfu/6/malicious/8D31C14C35BDC682BCE3D7C2D1FCC05D6FBD0E9C6C1E1AB3FCD58F1076EBA782\n",
      "Found 1 malware(s)!!!\n",
      "Downloading the apk: F3468B57CC668430B3AFA669079D51FF2C2C119E8215AB2E93B5127E6E4A6F2F\n",
      "Saved Benign apk in /Users/jarus/Work/r2callgraph4apk/data/droidkungfu/7/benign/F3468B57CC668430B3AFA669079D51FF2C2C119E8215AB2E93B5127E6E4A6F2F\n",
      "Downloading the apk: 76C8CD6E72F0D8E9380788DA6E3166B5C58E9D93606B7D0F6543D74864998BC4\n",
      "Saved Malicious apk in /Users/jarus/Work/r2callgraph4apk/data/droidkungfu/7/malicious/76C8CD6E72F0D8E9380788DA6E3166B5C58E9D93606B7D0F6543D74864998BC4\n",
      "Found 1 malware(s)!!!\n",
      "Downloading the apk: 8DCA4433C10BD0EC6884864B6BDF06C40E225C9D33D6B45E70685303927225CF\n",
      "Saved Benign apk in /Users/jarus/Work/r2callgraph4apk/data/droidkungfu/8/benign/8DCA4433C10BD0EC6884864B6BDF06C40E225C9D33D6B45E70685303927225CF\n",
      "Downloading the apk: 43BEA394D0C1926023D552D296FEBAF61B32B66115CCC3574DF3648A3C2747F4\n",
      "Saved Malicious apk in /Users/jarus/Work/r2callgraph4apk/data/droidkungfu/8/malicious/43BEA394D0C1926023D552D296FEBAF61B32B66115CCC3574DF3648A3C2747F4\n",
      "Found 1 malware(s)!!!\n",
      "Downloading the apk: 290ECC9B32FF80D73B705DFAC88240C34004DE438836B3BA899E020FF4E4AE6F\n",
      "Saved Benign apk in /Users/jarus/Work/r2callgraph4apk/data/droidkungfu/9/benign/290ECC9B32FF80D73B705DFAC88240C34004DE438836B3BA899E020FF4E4AE6F\n",
      "Downloading the apk: 8FB8E23C374CA4CF066874025D622BA2C7A56654BCC7506DF0C1821579A250DD\n",
      "Saved Malicious apk in /Users/jarus/Work/r2callgraph4apk/data/droidkungfu/9/malicious/8FB8E23C374CA4CF066874025D622BA2C7A56654BCC7506DF0C1821579A250DD\n",
      "Found 1 malware(s)!!!\n",
      "Downloading the apk: E5D0935F2C083A3FDA5955067217A6506D876496F295690BB8DFD74FED1D8C33\n",
      "Saved Benign apk in /Users/jarus/Work/r2callgraph4apk/data/droidkungfu/10/benign/E5D0935F2C083A3FDA5955067217A6506D876496F295690BB8DFD74FED1D8C33\n",
      "Downloading the apk: 04497B7698A31AE0403B22E20421B5697077DCDE15E053C530307C4DCC912286\n",
      "Saved Malicious apk in /Users/jarus/Work/r2callgraph4apk/data/droidkungfu/10/malicious/04497B7698A31AE0403B22E20421B5697077DCDE15E053C530307C4DCC912286\n",
      "Found 1 malware(s)!!!\n",
      "Downloading the apk: BD80C93A5CC82EF3664154A2955D0BFE3034607751785180106CE39F5D5E7164\n",
      "Saved Benign apk in /Users/jarus/Work/r2callgraph4apk/data/droidkungfu/11/benign/BD80C93A5CC82EF3664154A2955D0BFE3034607751785180106CE39F5D5E7164\n",
      "Downloading the apk: 41BD9843692B7421B2FBCEAC3C2F6AF3CE9C92339C10D43898E7E072B8E28BE3\n",
      "Saved Malicious apk in /Users/jarus/Work/r2callgraph4apk/data/droidkungfu/11/malicious/41BD9843692B7421B2FBCEAC3C2F6AF3CE9C92339C10D43898E7E072B8E28BE3\n",
      "Found 1 malware(s)!!!\n",
      "Downloading the apk: 37CEECB5863EBDE1F3ABFEC51BA7828F6C71B3F214A649B0E33E2161068F33DD\n",
      "Saved Benign apk in /Users/jarus/Work/r2callgraph4apk/data/droidkungfu/12/benign/37CEECB5863EBDE1F3ABFEC51BA7828F6C71B3F214A649B0E33E2161068F33DD\n",
      "Downloading the apk: 03E8BF87FAEFAC7DFBF2503079F0AF170641B0449BE37AAE23A72919EEAF777B\n",
      "Saved Malicious apk in /Users/jarus/Work/r2callgraph4apk/data/droidkungfu/12/malicious/03E8BF87FAEFAC7DFBF2503079F0AF170641B0449BE37AAE23A72919EEAF777B\n",
      "Found 1 malware(s)!!!\n",
      "Downloading the apk: 404EBBC524F57D506F36297E1CF229C2D59964F897ACBAF18A3E62DF4B106F75\n",
      "Saved Benign apk in /Users/jarus/Work/r2callgraph4apk/data/droidkungfu/13/benign/404EBBC524F57D506F36297E1CF229C2D59964F897ACBAF18A3E62DF4B106F75\n",
      "Downloading the apk: ADE714ABA59F833CC3F70965C584ADF5F8B8A9787B39DB228200F4FEFDF0CF91\n",
      "Saved Malicious apk in /Users/jarus/Work/r2callgraph4apk/data/droidkungfu/13/malicious/ADE714ABA59F833CC3F70965C584ADF5F8B8A9787B39DB228200F4FEFDF0CF91\n",
      "Found 1 malware(s)!!!\n",
      "Downloading the apk: 1CFDC7EA3D45D2259833C411AFED7FA610EFE1371219943581F7E28EA86BE3BD\n",
      "Saved Benign apk in /Users/jarus/Work/r2callgraph4apk/data/droidkungfu/14/benign/1CFDC7EA3D45D2259833C411AFED7FA610EFE1371219943581F7E28EA86BE3BD\n",
      "Downloading the apk: DED0B1DFF2CE3039F99287E03717DB86DB3F1CEA654EF19E42609B1D09293CB6\n",
      "Saved Malicious apk in /Users/jarus/Work/r2callgraph4apk/data/droidkungfu/14/malicious/DED0B1DFF2CE3039F99287E03717DB86DB3F1CEA654EF19E42609B1D09293CB6\n",
      "Found 1 malware(s)!!!\n",
      "Downloading the apk: 2643FFE1D7B247C4F99BBB184CC611C0F5BF2B53F8FFDB7BC3FAA9855F9A7480\n",
      "Saved Benign apk in /Users/jarus/Work/r2callgraph4apk/data/droidkungfu/15/benign/2643FFE1D7B247C4F99BBB184CC611C0F5BF2B53F8FFDB7BC3FAA9855F9A7480\n",
      "Downloading the apk: 45B611842300008AB6E3076EB16C3B70BA412A2E6576993CE44765B0DE9FC6C3\n",
      "Saved Malicious apk in /Users/jarus/Work/r2callgraph4apk/data/droidkungfu/15/malicious/45B611842300008AB6E3076EB16C3B70BA412A2E6576993CE44765B0DE9FC6C3\n",
      "Found 1 malware(s)!!!\n",
      "Downloading the apk: 90B571C51D68CD89EDB622C77B99E162ED389E4FD8CC90F115FFFB0E22052690\n"
     ]
    },
    {
     "name": "stdout",
     "output_type": "stream",
     "text": [
      "Saved Benign apk in /Users/jarus/Work/r2callgraph4apk/data/droidkungfu/16/benign/90B571C51D68CD89EDB622C77B99E162ED389E4FD8CC90F115FFFB0E22052690\n",
      "Downloading the apk: 3D0DCB50D92D98D85EFD67BEFBC754D4DC52B70093BF16B0EBF2C8D14ADA847A\n",
      "Saved Malicious apk in /Users/jarus/Work/r2callgraph4apk/data/droidkungfu/16/malicious/3D0DCB50D92D98D85EFD67BEFBC754D4DC52B70093BF16B0EBF2C8D14ADA847A\n",
      "Found 1 malware(s)!!!\n",
      "Downloading the apk: E5C881A01953228871966310D6CFA4D6D04DDC3D6741F99B490DE1B45756AC38\n"
     ]
    },
    {
     "ename": "ConnectionError",
     "evalue": "HTTPSConnectionPool(host='androzoo.uni.lu', port=443): Max retries exceeded with url: /api/download?apikey=e03b3548509b2b94d502314ca0f5cf7012c0357b18e6bea07071dec729c00c25&sha256=E5C881A01953228871966310D6CFA4D6D04DDC3D6741F99B490DE1B45756AC38 (Caused by NewConnectionError('<urllib3.connection.HTTPSConnection object at 0x7fddf14c2c90>: Failed to establish a new connection: [Errno 8] nodename nor servname provided, or not known'))",
     "output_type": "error",
     "traceback": [
      "\u001b[0;31m--------------------------------------------------------------------------\u001b[0m",
      "\u001b[0;31mgaierror\u001b[0m                                 Traceback (most recent call last)",
      "\u001b[0;32m~/miniconda/lib/python3.7/site-packages/urllib3/connection.py\u001b[0m in \u001b[0;36m_new_conn\u001b[0;34m(self)\u001b[0m\n\u001b[1;32m    159\u001b[0m             conn = connection.create_connection(\n\u001b[0;32m--> 160\u001b[0;31m                 \u001b[0;34m(\u001b[0m\u001b[0mself\u001b[0m\u001b[0;34m.\u001b[0m\u001b[0m_dns_host\u001b[0m\u001b[0;34m,\u001b[0m \u001b[0mself\u001b[0m\u001b[0;34m.\u001b[0m\u001b[0mport\u001b[0m\u001b[0;34m)\u001b[0m\u001b[0;34m,\u001b[0m \u001b[0mself\u001b[0m\u001b[0;34m.\u001b[0m\u001b[0mtimeout\u001b[0m\u001b[0;34m,\u001b[0m \u001b[0;34m**\u001b[0m\u001b[0mextra_kw\u001b[0m\u001b[0;34m\u001b[0m\u001b[0;34m\u001b[0m\u001b[0m\n\u001b[0m\u001b[1;32m    161\u001b[0m             )\n",
      "\u001b[0;32m~/miniconda/lib/python3.7/site-packages/urllib3/util/connection.py\u001b[0m in \u001b[0;36mcreate_connection\u001b[0;34m(address, timeout, source_address, socket_options)\u001b[0m\n\u001b[1;32m     60\u001b[0m \u001b[0;34m\u001b[0m\u001b[0m\n\u001b[0;32m---> 61\u001b[0;31m     \u001b[0;32mfor\u001b[0m \u001b[0mres\u001b[0m \u001b[0;32min\u001b[0m \u001b[0msocket\u001b[0m\u001b[0;34m.\u001b[0m\u001b[0mgetaddrinfo\u001b[0m\u001b[0;34m(\u001b[0m\u001b[0mhost\u001b[0m\u001b[0;34m,\u001b[0m \u001b[0mport\u001b[0m\u001b[0;34m,\u001b[0m \u001b[0mfamily\u001b[0m\u001b[0;34m,\u001b[0m \u001b[0msocket\u001b[0m\u001b[0;34m.\u001b[0m\u001b[0mSOCK_STREAM\u001b[0m\u001b[0;34m)\u001b[0m\u001b[0;34m:\u001b[0m\u001b[0;34m\u001b[0m\u001b[0;34m\u001b[0m\u001b[0m\n\u001b[0m\u001b[1;32m     62\u001b[0m         \u001b[0maf\u001b[0m\u001b[0;34m,\u001b[0m \u001b[0msocktype\u001b[0m\u001b[0;34m,\u001b[0m \u001b[0mproto\u001b[0m\u001b[0;34m,\u001b[0m \u001b[0mcanonname\u001b[0m\u001b[0;34m,\u001b[0m \u001b[0msa\u001b[0m \u001b[0;34m=\u001b[0m \u001b[0mres\u001b[0m\u001b[0;34m\u001b[0m\u001b[0;34m\u001b[0m\u001b[0m\n",
      "\u001b[0;32m~/miniconda/lib/python3.7/socket.py\u001b[0m in \u001b[0;36mgetaddrinfo\u001b[0;34m(host, port, family, type, proto, flags)\u001b[0m\n\u001b[1;32m    751\u001b[0m     \u001b[0maddrlist\u001b[0m \u001b[0;34m=\u001b[0m \u001b[0;34m[\u001b[0m\u001b[0;34m]\u001b[0m\u001b[0;34m\u001b[0m\u001b[0;34m\u001b[0m\u001b[0m\n\u001b[0;32m--> 752\u001b[0;31m     \u001b[0;32mfor\u001b[0m \u001b[0mres\u001b[0m \u001b[0;32min\u001b[0m \u001b[0m_socket\u001b[0m\u001b[0;34m.\u001b[0m\u001b[0mgetaddrinfo\u001b[0m\u001b[0;34m(\u001b[0m\u001b[0mhost\u001b[0m\u001b[0;34m,\u001b[0m \u001b[0mport\u001b[0m\u001b[0;34m,\u001b[0m \u001b[0mfamily\u001b[0m\u001b[0;34m,\u001b[0m \u001b[0mtype\u001b[0m\u001b[0;34m,\u001b[0m \u001b[0mproto\u001b[0m\u001b[0;34m,\u001b[0m \u001b[0mflags\u001b[0m\u001b[0;34m)\u001b[0m\u001b[0;34m:\u001b[0m\u001b[0;34m\u001b[0m\u001b[0;34m\u001b[0m\u001b[0m\n\u001b[0m\u001b[1;32m    753\u001b[0m         \u001b[0maf\u001b[0m\u001b[0;34m,\u001b[0m \u001b[0msocktype\u001b[0m\u001b[0;34m,\u001b[0m \u001b[0mproto\u001b[0m\u001b[0;34m,\u001b[0m \u001b[0mcanonname\u001b[0m\u001b[0;34m,\u001b[0m \u001b[0msa\u001b[0m \u001b[0;34m=\u001b[0m \u001b[0mres\u001b[0m\u001b[0;34m\u001b[0m\u001b[0;34m\u001b[0m\u001b[0m\n",
      "\u001b[0;31mgaierror\u001b[0m: [Errno 8] nodename nor servname provided, or not known",
      "\nDuring handling of the above exception, another exception occurred:\n",
      "\u001b[0;31mNewConnectionError\u001b[0m                       Traceback (most recent call last)",
      "\u001b[0;32m~/miniconda/lib/python3.7/site-packages/urllib3/connectionpool.py\u001b[0m in \u001b[0;36murlopen\u001b[0;34m(self, method, url, body, headers, retries, redirect, assert_same_host, timeout, pool_timeout, release_conn, chunked, body_pos, **response_kw)\u001b[0m\n\u001b[1;32m    676\u001b[0m                 \u001b[0mheaders\u001b[0m\u001b[0;34m=\u001b[0m\u001b[0mheaders\u001b[0m\u001b[0;34m,\u001b[0m\u001b[0;34m\u001b[0m\u001b[0;34m\u001b[0m\u001b[0m\n\u001b[0;32m--> 677\u001b[0;31m                 \u001b[0mchunked\u001b[0m\u001b[0;34m=\u001b[0m\u001b[0mchunked\u001b[0m\u001b[0;34m,\u001b[0m\u001b[0;34m\u001b[0m\u001b[0;34m\u001b[0m\u001b[0m\n\u001b[0m\u001b[1;32m    678\u001b[0m             )\n",
      "\u001b[0;32m~/miniconda/lib/python3.7/site-packages/urllib3/connectionpool.py\u001b[0m in \u001b[0;36m_make_request\u001b[0;34m(self, conn, method, url, timeout, chunked, **httplib_request_kw)\u001b[0m\n\u001b[1;32m    380\u001b[0m         \u001b[0;32mtry\u001b[0m\u001b[0;34m:\u001b[0m\u001b[0;34m\u001b[0m\u001b[0;34m\u001b[0m\u001b[0m\n\u001b[0;32m--> 381\u001b[0;31m             \u001b[0mself\u001b[0m\u001b[0;34m.\u001b[0m\u001b[0m_validate_conn\u001b[0m\u001b[0;34m(\u001b[0m\u001b[0mconn\u001b[0m\u001b[0;34m)\u001b[0m\u001b[0;34m\u001b[0m\u001b[0;34m\u001b[0m\u001b[0m\n\u001b[0m\u001b[1;32m    382\u001b[0m         \u001b[0;32mexcept\u001b[0m \u001b[0;34m(\u001b[0m\u001b[0mSocketTimeout\u001b[0m\u001b[0;34m,\u001b[0m \u001b[0mBaseSSLError\u001b[0m\u001b[0;34m)\u001b[0m \u001b[0;32mas\u001b[0m \u001b[0me\u001b[0m\u001b[0;34m:\u001b[0m\u001b[0;34m\u001b[0m\u001b[0;34m\u001b[0m\u001b[0m\n",
      "\u001b[0;32m~/miniconda/lib/python3.7/site-packages/urllib3/connectionpool.py\u001b[0m in \u001b[0;36m_validate_conn\u001b[0;34m(self, conn)\u001b[0m\n\u001b[1;32m    977\u001b[0m         \u001b[0;32mif\u001b[0m \u001b[0;32mnot\u001b[0m \u001b[0mgetattr\u001b[0m\u001b[0;34m(\u001b[0m\u001b[0mconn\u001b[0m\u001b[0;34m,\u001b[0m \u001b[0;34m\"sock\"\u001b[0m\u001b[0;34m,\u001b[0m \u001b[0;32mNone\u001b[0m\u001b[0;34m)\u001b[0m\u001b[0;34m:\u001b[0m  \u001b[0;31m# AppEngine might not have  `.sock`\u001b[0m\u001b[0;34m\u001b[0m\u001b[0;34m\u001b[0m\u001b[0m\n\u001b[0;32m--> 978\u001b[0;31m             \u001b[0mconn\u001b[0m\u001b[0;34m.\u001b[0m\u001b[0mconnect\u001b[0m\u001b[0;34m(\u001b[0m\u001b[0;34m)\u001b[0m\u001b[0;34m\u001b[0m\u001b[0;34m\u001b[0m\u001b[0m\n\u001b[0m\u001b[1;32m    979\u001b[0m \u001b[0;34m\u001b[0m\u001b[0m\n",
      "\u001b[0;32m~/miniconda/lib/python3.7/site-packages/urllib3/connection.py\u001b[0m in \u001b[0;36mconnect\u001b[0;34m(self)\u001b[0m\n\u001b[1;32m    308\u001b[0m         \u001b[0;31m# Add certificate verification\u001b[0m\u001b[0;34m\u001b[0m\u001b[0;34m\u001b[0m\u001b[0;34m\u001b[0m\u001b[0m\n\u001b[0;32m--> 309\u001b[0;31m         \u001b[0mconn\u001b[0m \u001b[0;34m=\u001b[0m \u001b[0mself\u001b[0m\u001b[0;34m.\u001b[0m\u001b[0m_new_conn\u001b[0m\u001b[0;34m(\u001b[0m\u001b[0;34m)\u001b[0m\u001b[0;34m\u001b[0m\u001b[0;34m\u001b[0m\u001b[0m\n\u001b[0m\u001b[1;32m    310\u001b[0m         \u001b[0mhostname\u001b[0m \u001b[0;34m=\u001b[0m \u001b[0mself\u001b[0m\u001b[0;34m.\u001b[0m\u001b[0mhost\u001b[0m\u001b[0;34m\u001b[0m\u001b[0;34m\u001b[0m\u001b[0m\n",
      "\u001b[0;32m~/miniconda/lib/python3.7/site-packages/urllib3/connection.py\u001b[0m in \u001b[0;36m_new_conn\u001b[0;34m(self)\u001b[0m\n\u001b[1;32m    171\u001b[0m             raise NewConnectionError(\n\u001b[0;32m--> 172\u001b[0;31m                 \u001b[0mself\u001b[0m\u001b[0;34m,\u001b[0m \u001b[0;34m\"Failed to establish a new connection: %s\"\u001b[0m \u001b[0;34m%\u001b[0m \u001b[0me\u001b[0m\u001b[0;34m\u001b[0m\u001b[0;34m\u001b[0m\u001b[0m\n\u001b[0m\u001b[1;32m    173\u001b[0m             )\n",
      "\u001b[0;31mNewConnectionError\u001b[0m: <urllib3.connection.HTTPSConnection object at 0x7fddf14c2c90>: Failed to establish a new connection: [Errno 8] nodename nor servname provided, or not known",
      "\nDuring handling of the above exception, another exception occurred:\n",
      "\u001b[0;31mMaxRetryError\u001b[0m                            Traceback (most recent call last)",
      "\u001b[0;32m~/miniconda/lib/python3.7/site-packages/requests/adapters.py\u001b[0m in \u001b[0;36msend\u001b[0;34m(self, request, stream, timeout, verify, cert, proxies)\u001b[0m\n\u001b[1;32m    448\u001b[0m                     \u001b[0mretries\u001b[0m\u001b[0;34m=\u001b[0m\u001b[0mself\u001b[0m\u001b[0;34m.\u001b[0m\u001b[0mmax_retries\u001b[0m\u001b[0;34m,\u001b[0m\u001b[0;34m\u001b[0m\u001b[0;34m\u001b[0m\u001b[0m\n\u001b[0;32m--> 449\u001b[0;31m                     \u001b[0mtimeout\u001b[0m\u001b[0;34m=\u001b[0m\u001b[0mtimeout\u001b[0m\u001b[0;34m\u001b[0m\u001b[0;34m\u001b[0m\u001b[0m\n\u001b[0m\u001b[1;32m    450\u001b[0m                 )\n",
      "\u001b[0;32m~/miniconda/lib/python3.7/site-packages/urllib3/connectionpool.py\u001b[0m in \u001b[0;36murlopen\u001b[0;34m(self, method, url, body, headers, retries, redirect, assert_same_host, timeout, pool_timeout, release_conn, chunked, body_pos, **response_kw)\u001b[0m\n\u001b[1;32m    726\u001b[0m             retries = retries.increment(\n\u001b[0;32m--> 727\u001b[0;31m                 \u001b[0mmethod\u001b[0m\u001b[0;34m,\u001b[0m \u001b[0murl\u001b[0m\u001b[0;34m,\u001b[0m \u001b[0merror\u001b[0m\u001b[0;34m=\u001b[0m\u001b[0me\u001b[0m\u001b[0;34m,\u001b[0m \u001b[0m_pool\u001b[0m\u001b[0;34m=\u001b[0m\u001b[0mself\u001b[0m\u001b[0;34m,\u001b[0m \u001b[0m_stacktrace\u001b[0m\u001b[0;34m=\u001b[0m\u001b[0msys\u001b[0m\u001b[0;34m.\u001b[0m\u001b[0mexc_info\u001b[0m\u001b[0;34m(\u001b[0m\u001b[0;34m)\u001b[0m\u001b[0;34m[\u001b[0m\u001b[0;36m2\u001b[0m\u001b[0;34m]\u001b[0m\u001b[0;34m\u001b[0m\u001b[0;34m\u001b[0m\u001b[0m\n\u001b[0m\u001b[1;32m    728\u001b[0m             )\n",
      "\u001b[0;32m~/miniconda/lib/python3.7/site-packages/urllib3/util/retry.py\u001b[0m in \u001b[0;36mincrement\u001b[0;34m(self, method, url, response, error, _pool, _stacktrace)\u001b[0m\n\u001b[1;32m    445\u001b[0m         \u001b[0;32mif\u001b[0m \u001b[0mnew_retry\u001b[0m\u001b[0;34m.\u001b[0m\u001b[0mis_exhausted\u001b[0m\u001b[0;34m(\u001b[0m\u001b[0;34m)\u001b[0m\u001b[0;34m:\u001b[0m\u001b[0;34m\u001b[0m\u001b[0;34m\u001b[0m\u001b[0m\n\u001b[0;32m--> 446\u001b[0;31m             \u001b[0;32mraise\u001b[0m \u001b[0mMaxRetryError\u001b[0m\u001b[0;34m(\u001b[0m\u001b[0m_pool\u001b[0m\u001b[0;34m,\u001b[0m \u001b[0murl\u001b[0m\u001b[0;34m,\u001b[0m \u001b[0merror\u001b[0m \u001b[0;32mor\u001b[0m \u001b[0mResponseError\u001b[0m\u001b[0;34m(\u001b[0m\u001b[0mcause\u001b[0m\u001b[0;34m)\u001b[0m\u001b[0;34m)\u001b[0m\u001b[0;34m\u001b[0m\u001b[0;34m\u001b[0m\u001b[0m\n\u001b[0m\u001b[1;32m    447\u001b[0m \u001b[0;34m\u001b[0m\u001b[0m\n",
      "\u001b[0;31mMaxRetryError\u001b[0m: HTTPSConnectionPool(host='androzoo.uni.lu', port=443): Max retries exceeded with url: /api/download?apikey=e03b3548509b2b94d502314ca0f5cf7012c0357b18e6bea07071dec729c00c25&sha256=E5C881A01953228871966310D6CFA4D6D04DDC3D6741F99B490DE1B45756AC38 (Caused by NewConnectionError('<urllib3.connection.HTTPSConnection object at 0x7fddf14c2c90>: Failed to establish a new connection: [Errno 8] nodename nor servname provided, or not known'))",
      "\nDuring handling of the above exception, another exception occurred:\n",
      "\u001b[0;31mConnectionError\u001b[0m                          Traceback (most recent call last)",
      "\u001b[0;32m<ipython-input-22-8d59b136399a>\u001b[0m in \u001b[0;36m<module>\u001b[0;34m\u001b[0m\n\u001b[1;32m      1\u001b[0m \u001b[0;32mfor\u001b[0m \u001b[0midx\u001b[0m\u001b[0;34m,\u001b[0m \u001b[0msha\u001b[0m \u001b[0;32min\u001b[0m \u001b[0menumerate\u001b[0m\u001b[0;34m(\u001b[0m\u001b[0mdf\u001b[0m\u001b[0;34m[\u001b[0m\u001b[0;34m'ORIGINAL_APP'\u001b[0m\u001b[0;34m]\u001b[0m\u001b[0;34m)\u001b[0m\u001b[0;34m:\u001b[0m\u001b[0;34m\u001b[0m\u001b[0;34m\u001b[0m\u001b[0m\n\u001b[1;32m      2\u001b[0m     \u001b[0mr2callgraph\u001b[0m \u001b[0;34m=\u001b[0m \u001b[0mR2CallGraph4APK\u001b[0m\u001b[0;34m(\u001b[0m\u001b[0mb_apk\u001b[0m\u001b[0;34m=\u001b[0m\u001b[0msha\u001b[0m\u001b[0;34m)\u001b[0m\u001b[0;34m\u001b[0m\u001b[0;34m\u001b[0m\u001b[0m\n\u001b[0;32m----> 3\u001b[0;31m     \u001b[0mm_apks\u001b[0m \u001b[0;34m=\u001b[0m \u001b[0mr2callgraph\u001b[0m\u001b[0;34m.\u001b[0m\u001b[0mget_malicious_from_bank\u001b[0m\u001b[0;34m(\u001b[0m\u001b[0msha\u001b[0m\u001b[0;34m,\u001b[0m \u001b[0mos\u001b[0m\u001b[0;34m.\u001b[0m\u001b[0mpath\u001b[0m\u001b[0;34m.\u001b[0m\u001b[0mjoin\u001b[0m\u001b[0;34m(\u001b[0m\u001b[0mSAVE_DIR\u001b[0m\u001b[0;34m,\u001b[0m \u001b[0;34mf\"{idx}\"\u001b[0m\u001b[0;34m)\u001b[0m\u001b[0;34m)\u001b[0m\u001b[0;34m\u001b[0m\u001b[0;34m\u001b[0m\u001b[0m\n\u001b[0m",
      "\u001b[0;32m~/Work/r2callgraph4apk/r2callgraph4apk.py\u001b[0m in \u001b[0;36mget_malicious_from_bank\u001b[0;34m(b_sha256, save_dir)\u001b[0m\n\u001b[1;32m     82\u001b[0m             \u001b[0mos\u001b[0m\u001b[0;34m.\u001b[0m\u001b[0mmakedirs\u001b[0m\u001b[0;34m(\u001b[0m\u001b[0mbenign_folder_path\u001b[0m\u001b[0;34m)\u001b[0m\u001b[0;34m\u001b[0m\u001b[0;34m\u001b[0m\u001b[0m\n\u001b[1;32m     83\u001b[0m \u001b[0;34m\u001b[0m\u001b[0m\n\u001b[0;32m---> 84\u001b[0;31m         \u001b[0mR2CallGraph4APK\u001b[0m\u001b[0;34m.\u001b[0m\u001b[0mrequest_apk_andro\u001b[0m\u001b[0;34m(\u001b[0m\u001b[0mAPI_KEY\u001b[0m\u001b[0;34m,\u001b[0m \u001b[0mstr\u001b[0m\u001b[0;34m(\u001b[0m\u001b[0mb_sha256\u001b[0m\u001b[0;34m)\u001b[0m\u001b[0;34m,\u001b[0m \u001b[0mbenign_folder_path\u001b[0m\u001b[0;34m)\u001b[0m\u001b[0;34m\u001b[0m\u001b[0;34m\u001b[0m\u001b[0m\n\u001b[0m\u001b[1;32m     85\u001b[0m         \u001b[0mprint\u001b[0m\u001b[0;34m(\u001b[0m\u001b[0;34mf\"Saved Benign apk in {os.path.join(benign_folder_path, b_sha256)}\"\u001b[0m\u001b[0;34m)\u001b[0m\u001b[0;34m\u001b[0m\u001b[0;34m\u001b[0m\u001b[0m\n\u001b[1;32m     86\u001b[0m \u001b[0;34m\u001b[0m\u001b[0m\n",
      "\u001b[0;32m~/Work/r2callgraph4apk/r2callgraph4apk.py\u001b[0m in \u001b[0;36mrequest_apk_andro\u001b[0;34m(api_key, sha256, data_dir)\u001b[0m\n\u001b[1;32m     49\u001b[0m         \u001b[0mpackaged_url\u001b[0m \u001b[0;34m=\u001b[0m \u001b[0murl\u001b[0m \u001b[0;34m+\u001b[0m \u001b[0;34m'apikey='\u001b[0m \u001b[0;34m+\u001b[0m \u001b[0mapi_key\u001b[0m \u001b[0;34m+\u001b[0m \u001b[0;34m'&sha256='\u001b[0m \u001b[0;34m+\u001b[0m \u001b[0msha256\u001b[0m\u001b[0;34m\u001b[0m\u001b[0;34m\u001b[0m\u001b[0m\n\u001b[1;32m     50\u001b[0m         \u001b[0mprint\u001b[0m\u001b[0;34m(\u001b[0m\u001b[0;34mf\"Downloading the apk: {sha256}\"\u001b[0m\u001b[0;34m)\u001b[0m\u001b[0;34m\u001b[0m\u001b[0;34m\u001b[0m\u001b[0m\n\u001b[0;32m---> 51\u001b[0;31m         \u001b[0mr\u001b[0m \u001b[0;34m=\u001b[0m \u001b[0mrequests\u001b[0m\u001b[0;34m.\u001b[0m\u001b[0mget\u001b[0m\u001b[0;34m(\u001b[0m\u001b[0mpackaged_url\u001b[0m\u001b[0;34m)\u001b[0m\u001b[0;34m\u001b[0m\u001b[0;34m\u001b[0m\u001b[0m\n\u001b[0m\u001b[1;32m     52\u001b[0m \u001b[0;34m\u001b[0m\u001b[0m\n\u001b[1;32m     53\u001b[0m         \u001b[0mfilename\u001b[0m \u001b[0;34m=\u001b[0m \u001b[0mos\u001b[0m\u001b[0;34m.\u001b[0m\u001b[0mpath\u001b[0m\u001b[0;34m.\u001b[0m\u001b[0mjoin\u001b[0m\u001b[0;34m(\u001b[0m\u001b[0mdata_dir\u001b[0m\u001b[0;34m,\u001b[0m \u001b[0msha256\u001b[0m \u001b[0;34m+\u001b[0m \u001b[0;34m\".apk\"\u001b[0m\u001b[0;34m)\u001b[0m\u001b[0;34m\u001b[0m\u001b[0;34m\u001b[0m\u001b[0m\n",
      "\u001b[0;32m~/miniconda/lib/python3.7/site-packages/requests/api.py\u001b[0m in \u001b[0;36mget\u001b[0;34m(url, params, **kwargs)\u001b[0m\n\u001b[1;32m     74\u001b[0m \u001b[0;34m\u001b[0m\u001b[0m\n\u001b[1;32m     75\u001b[0m     \u001b[0mkwargs\u001b[0m\u001b[0;34m.\u001b[0m\u001b[0msetdefault\u001b[0m\u001b[0;34m(\u001b[0m\u001b[0;34m'allow_redirects'\u001b[0m\u001b[0;34m,\u001b[0m \u001b[0;32mTrue\u001b[0m\u001b[0;34m)\u001b[0m\u001b[0;34m\u001b[0m\u001b[0;34m\u001b[0m\u001b[0m\n\u001b[0;32m---> 76\u001b[0;31m     \u001b[0;32mreturn\u001b[0m \u001b[0mrequest\u001b[0m\u001b[0;34m(\u001b[0m\u001b[0;34m'get'\u001b[0m\u001b[0;34m,\u001b[0m \u001b[0murl\u001b[0m\u001b[0;34m,\u001b[0m \u001b[0mparams\u001b[0m\u001b[0;34m=\u001b[0m\u001b[0mparams\u001b[0m\u001b[0;34m,\u001b[0m \u001b[0;34m**\u001b[0m\u001b[0mkwargs\u001b[0m\u001b[0;34m)\u001b[0m\u001b[0;34m\u001b[0m\u001b[0;34m\u001b[0m\u001b[0m\n\u001b[0m\u001b[1;32m     77\u001b[0m \u001b[0;34m\u001b[0m\u001b[0m\n\u001b[1;32m     78\u001b[0m \u001b[0;34m\u001b[0m\u001b[0m\n",
      "\u001b[0;32m~/miniconda/lib/python3.7/site-packages/requests/api.py\u001b[0m in \u001b[0;36mrequest\u001b[0;34m(method, url, **kwargs)\u001b[0m\n\u001b[1;32m     59\u001b[0m     \u001b[0;31m# cases, and look like a memory leak in others.\u001b[0m\u001b[0;34m\u001b[0m\u001b[0;34m\u001b[0m\u001b[0;34m\u001b[0m\u001b[0m\n\u001b[1;32m     60\u001b[0m     \u001b[0;32mwith\u001b[0m \u001b[0msessions\u001b[0m\u001b[0;34m.\u001b[0m\u001b[0mSession\u001b[0m\u001b[0;34m(\u001b[0m\u001b[0;34m)\u001b[0m \u001b[0;32mas\u001b[0m \u001b[0msession\u001b[0m\u001b[0;34m:\u001b[0m\u001b[0;34m\u001b[0m\u001b[0;34m\u001b[0m\u001b[0m\n\u001b[0;32m---> 61\u001b[0;31m         \u001b[0;32mreturn\u001b[0m \u001b[0msession\u001b[0m\u001b[0;34m.\u001b[0m\u001b[0mrequest\u001b[0m\u001b[0;34m(\u001b[0m\u001b[0mmethod\u001b[0m\u001b[0;34m=\u001b[0m\u001b[0mmethod\u001b[0m\u001b[0;34m,\u001b[0m \u001b[0murl\u001b[0m\u001b[0;34m=\u001b[0m\u001b[0murl\u001b[0m\u001b[0;34m,\u001b[0m \u001b[0;34m**\u001b[0m\u001b[0mkwargs\u001b[0m\u001b[0;34m)\u001b[0m\u001b[0;34m\u001b[0m\u001b[0;34m\u001b[0m\u001b[0m\n\u001b[0m\u001b[1;32m     62\u001b[0m \u001b[0;34m\u001b[0m\u001b[0m\n\u001b[1;32m     63\u001b[0m \u001b[0;34m\u001b[0m\u001b[0m\n",
      "\u001b[0;32m~/miniconda/lib/python3.7/site-packages/requests/sessions.py\u001b[0m in \u001b[0;36mrequest\u001b[0;34m(self, method, url, params, data, headers, cookies, files, auth, timeout, allow_redirects, proxies, hooks, stream, verify, cert, json)\u001b[0m\n\u001b[1;32m    540\u001b[0m         }\n\u001b[1;32m    541\u001b[0m         \u001b[0msend_kwargs\u001b[0m\u001b[0;34m.\u001b[0m\u001b[0mupdate\u001b[0m\u001b[0;34m(\u001b[0m\u001b[0msettings\u001b[0m\u001b[0;34m)\u001b[0m\u001b[0;34m\u001b[0m\u001b[0;34m\u001b[0m\u001b[0m\n\u001b[0;32m--> 542\u001b[0;31m         \u001b[0mresp\u001b[0m \u001b[0;34m=\u001b[0m \u001b[0mself\u001b[0m\u001b[0;34m.\u001b[0m\u001b[0msend\u001b[0m\u001b[0;34m(\u001b[0m\u001b[0mprep\u001b[0m\u001b[0;34m,\u001b[0m \u001b[0;34m**\u001b[0m\u001b[0msend_kwargs\u001b[0m\u001b[0;34m)\u001b[0m\u001b[0;34m\u001b[0m\u001b[0;34m\u001b[0m\u001b[0m\n\u001b[0m\u001b[1;32m    543\u001b[0m \u001b[0;34m\u001b[0m\u001b[0m\n\u001b[1;32m    544\u001b[0m         \u001b[0;32mreturn\u001b[0m \u001b[0mresp\u001b[0m\u001b[0;34m\u001b[0m\u001b[0;34m\u001b[0m\u001b[0m\n",
      "\u001b[0;32m~/miniconda/lib/python3.7/site-packages/requests/sessions.py\u001b[0m in \u001b[0;36msend\u001b[0;34m(self, request, **kwargs)\u001b[0m\n\u001b[1;32m    653\u001b[0m \u001b[0;34m\u001b[0m\u001b[0m\n\u001b[1;32m    654\u001b[0m         \u001b[0;31m# Send the request\u001b[0m\u001b[0;34m\u001b[0m\u001b[0;34m\u001b[0m\u001b[0;34m\u001b[0m\u001b[0m\n\u001b[0;32m--> 655\u001b[0;31m         \u001b[0mr\u001b[0m \u001b[0;34m=\u001b[0m \u001b[0madapter\u001b[0m\u001b[0;34m.\u001b[0m\u001b[0msend\u001b[0m\u001b[0;34m(\u001b[0m\u001b[0mrequest\u001b[0m\u001b[0;34m,\u001b[0m \u001b[0;34m**\u001b[0m\u001b[0mkwargs\u001b[0m\u001b[0;34m)\u001b[0m\u001b[0;34m\u001b[0m\u001b[0;34m\u001b[0m\u001b[0m\n\u001b[0m\u001b[1;32m    656\u001b[0m \u001b[0;34m\u001b[0m\u001b[0m\n\u001b[1;32m    657\u001b[0m         \u001b[0;31m# Total elapsed time of the request (approximately)\u001b[0m\u001b[0;34m\u001b[0m\u001b[0;34m\u001b[0m\u001b[0;34m\u001b[0m\u001b[0m\n",
      "\u001b[0;32m~/miniconda/lib/python3.7/site-packages/requests/adapters.py\u001b[0m in \u001b[0;36msend\u001b[0;34m(self, request, stream, timeout, verify, cert, proxies)\u001b[0m\n\u001b[1;32m    514\u001b[0m                 \u001b[0;32mraise\u001b[0m \u001b[0mSSLError\u001b[0m\u001b[0;34m(\u001b[0m\u001b[0me\u001b[0m\u001b[0;34m,\u001b[0m \u001b[0mrequest\u001b[0m\u001b[0;34m=\u001b[0m\u001b[0mrequest\u001b[0m\u001b[0;34m)\u001b[0m\u001b[0;34m\u001b[0m\u001b[0;34m\u001b[0m\u001b[0m\n\u001b[1;32m    515\u001b[0m \u001b[0;34m\u001b[0m\u001b[0m\n\u001b[0;32m--> 516\u001b[0;31m             \u001b[0;32mraise\u001b[0m \u001b[0mConnectionError\u001b[0m\u001b[0;34m(\u001b[0m\u001b[0me\u001b[0m\u001b[0;34m,\u001b[0m \u001b[0mrequest\u001b[0m\u001b[0;34m=\u001b[0m\u001b[0mrequest\u001b[0m\u001b[0;34m)\u001b[0m\u001b[0;34m\u001b[0m\u001b[0;34m\u001b[0m\u001b[0m\n\u001b[0m\u001b[1;32m    517\u001b[0m \u001b[0;34m\u001b[0m\u001b[0m\n\u001b[1;32m    518\u001b[0m         \u001b[0;32mexcept\u001b[0m \u001b[0mClosedPoolError\u001b[0m \u001b[0;32mas\u001b[0m \u001b[0me\u001b[0m\u001b[0;34m:\u001b[0m\u001b[0;34m\u001b[0m\u001b[0;34m\u001b[0m\u001b[0m\n",
      "\u001b[0;31mConnectionError\u001b[0m: HTTPSConnectionPool(host='androzoo.uni.lu', port=443): Max retries exceeded with url: /api/download?apikey=e03b3548509b2b94d502314ca0f5cf7012c0357b18e6bea07071dec729c00c25&sha256=E5C881A01953228871966310D6CFA4D6D04DDC3D6741F99B490DE1B45756AC38 (Caused by NewConnectionError('<urllib3.connection.HTTPSConnection object at 0x7fddf14c2c90>: Failed to establish a new connection: [Errno 8] nodename nor servname provided, or not known'))"
     ]
    }
   ],
   "source": [
    "for idx, sha in enumerate(df['ORIGINAL_APP']):\n",
    "    r2callgraph = R2CallGraph4APK(b_apk=sha)\n",
    "    m_apks = r2callgraph.get_malicious_from_bank(sha, os.path.join(SAVE_DIR, f\"{idx}\"))"
   ]
  },
  {
   "cell_type": "code",
   "execution_count": null,
   "metadata": {},
   "outputs": [],
   "source": []
  }
 ],
 "metadata": {
  "kernelspec": {
   "display_name": "Python 3.7.6 64-bit",
   "language": "python",
   "name": "python37664bit3a5637fa2c7f4443bca7a2894d18d23d"
  },
  "language_info": {
   "codemirror_mode": {
    "name": "ipython",
    "version": 3
   },
   "file_extension": ".py",
   "mimetype": "text/x-python",
   "name": "python",
   "nbconvert_exporter": "python",
   "pygments_lexer": "ipython3",
   "version": "3.7.7"
  }
 },
 "nbformat": 4,
 "nbformat_minor": 4
}
