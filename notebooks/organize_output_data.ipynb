{
 "cells": [
  {
   "cell_type": "code",
   "execution_count": 106,
   "metadata": {},
   "outputs": [],
   "source": [
    "import csv\n",
    "import sys\n",
    "import os\n",
    "\n",
    "PWD = os.path.abspath(\".\")"
   ]
  },
  {
   "cell_type": "code",
   "execution_count": 107,
   "metadata": {},
   "outputs": [],
   "source": [
    "import locale\n",
    "\n",
    "def convert_to_int(num_str):\n",
    "    try:\n",
    "        locale.setlocale( locale.LC_ALL, 'en_US.UTF-8' ) \n",
    "        num = locale.atoi(num_str)\n",
    "        return num\n",
    "    \n",
    "    except ValueError:\n",
    "        pass\n",
    "    "
   ]
  },
  {
   "cell_type": "code",
   "execution_count": 108,
   "metadata": {},
   "outputs": [],
   "source": [
    "def create_dict_event_count(number, event_name, event_count):\n",
    "    try:\n",
    "        event_count[event_name].append(number)\n",
    "    except KeyError:\n",
    "        # event name that is not registered in dictionary falls into this exception\n",
    "        event_count.setdefault(event_name, [])\n",
    "        event_count[event_name].append(number)\n",
    "    "
   ]
  },
  {
   "cell_type": "code",
   "execution_count": 109,
   "metadata": {},
   "outputs": [],
   "source": [
    "from itertools import cycle\n",
    "\n",
    "def extract_event_and_count_from_list(csv_list):\n",
    "    event_count = dict()\n",
    "\n",
    "    running = True\n",
    "    total_cycle = cycle(csv_list)\n",
    "    next_elem = next(total_cycle)\n",
    "    sequence_start = 0\n",
    "    sequence_end = len(csv_list)\n",
    "\n",
    "    while running:\n",
    "        current_elem, next_elem = next_elem, next(total_cycle)\n",
    "\n",
    "        #check if element is number\n",
    "        if ord(current_elem[0]) >= 48 and ord(current_elem[0]) <= 57:\n",
    "            data = convert_to_int(current_elem)\n",
    "            if data != None:\n",
    "                create_dict_event_count(data, next_elem, event_count)\n",
    "\n",
    "                # skip one iteration\n",
    "                next_elem = next(total_cycle)\n",
    "                sequence_start += 1\n",
    "\n",
    "        if(sequence_start == sequence_end+1):\n",
    "            running = False\n",
    "        else:\n",
    "            sequence_start += 1\n",
    "\n",
    "    print('# of events:', len(event_count))\n",
    "    \n",
    "    return event_count"
   ]
  },
  {
   "cell_type": "code",
   "execution_count": 110,
   "metadata": {},
   "outputs": [],
   "source": [
    "def list_csv_file(file_path):\n",
    "    item_list = list()\n",
    "\n",
    "    #number of output files from perf\n",
    "    for i in range (1, 81):\n",
    "        filename = '/output' + str(i) +'.csv'\n",
    "        with open(file_path+filename, 'r') as csv_file:\n",
    "            reader = csv.reader(csv_file, delimiter=' ')\n",
    "            for row in reader:\n",
    "                if any(row):\n",
    "                    for item in row:\n",
    "                        if any(item):\n",
    "                            #up to this point, remove all the spaces, and empty cells\n",
    "                            if(item != \"#\"): #filter out one more apprently unnecessary delimiter\n",
    "                                item_list.append(item)\n",
    "\n",
    "    return item_list"
   ]
  },
  {
   "cell_type": "code",
   "execution_count": 111,
   "metadata": {},
   "outputs": [],
   "source": [
    "def add_type_and_apk_name_in_dictionary(m_target_dict, b_target_dict, times, app_num):\n",
    "    event_name = \"type\"\n",
    "    m_target_dict.setdefault(event_name, [])\n",
    "    b_target_dict.setdefault(event_name, [])\n",
    "    for i in range (0, times):\n",
    "        m_target_dict[event_name].append('malicious')\n",
    "        b_target_dict[event_name].append('benign')\n",
    "    \n",
    "    #get the first apk file name from the directory below \n",
    "    ### need to change based on user's directory setting (where the benign and malicious apk files are) ###\n",
    "    path = os.path.join(PWD, 'droidkungfu_w_benign/'+app_num+'/benign')\n",
    "    for file in os.listdir(path):\n",
    "        benign_apk_name = file\n",
    "        break\n",
    "        \n",
    "    path = os.path.join(PWD, 'droidkungfu_w_benign/'+app_num+'/malicious')\n",
    "    for file in os.listdir(path):\n",
    "        malicious_apk_name = file\n",
    "        break\n",
    "        \n",
    "    event_name = \"apk\"\n",
    "    m_target_dict.setdefault(event_name, [])\n",
    "    for i in range (0, times):\n",
    "        m_target_dict[event_name].append(malicious_apk_name)\n",
    "        \n",
    "    event_name = \"apk-match\"\n",
    "    m_target_dict.setdefault(event_name, [])\n",
    "    for i in range (0, times):\n",
    "        m_target_dict[event_name].append(benign_apk_name)\n",
    "        \n",
    "    event_name = \"apk\"\n",
    "    b_target_dict.setdefault(event_name, [])\n",
    "    for i in range (0, times):\n",
    "        b_target_dict[event_name].append(benign_apk_name)\n",
    "        \n",
    "    event_name = \"apk-match\"\n",
    "    b_target_dict.setdefault(event_name, [])\n",
    "    for i in range (0, times):\n",
    "        b_target_dict[event_name].append(malicious_apk_name)\n",
    "    "
   ]
  },
  {
   "cell_type": "code",
   "execution_count": 112,
   "metadata": {},
   "outputs": [],
   "source": [
    "def get_malicious_benign_dict(app_name, app_num):\n",
    "    #malicious\n",
    "    ### need to change based on user's directory setting (where the perf output files are) ###\n",
    "    file_name = os.path.join(PWD, 'malicious_output/' + app_name)\n",
    "    csv_list = list_csv_file(file_name)\n",
    "    print(file_name)\n",
    "    malicious_perf_dict = extract_event_and_count_from_list(csv_list)\n",
    "\n",
    "    #benign\n",
    "    ### need to change based on user's directory setting (where the perf output files are) ###\n",
    "    file_name = os.path.join(PWD, 'benign_output/' + app_name)\n",
    "    csv_list = list_csv_file(file_name)\n",
    "    print(file_name)\n",
    "    benign_perf_dict = extract_event_and_count_from_list(csv_list)\n",
    "    \n",
    "    #add columns (type, apk, apk-match)\n",
    "    for key, values in malicious_perf_dict.items():\n",
    "        len_column = len(malicious_perf_dict[key])\n",
    "        break\n",
    "    \n",
    "    add_type_and_apk_name_in_dictionary(malicious_perf_dict, benign_perf_dict, len_column, app_num)\n",
    "    \n",
    "    return malicious_perf_dict, benign_perf_dict"
   ]
  },
  {
   "cell_type": "code",
   "execution_count": 113,
   "metadata": {},
   "outputs": [],
   "source": [
    "def make_one_csvfile(app_name, benign_dict, malicious_dict):\n",
    "    \n",
    "    ### need to change based on user's directory setting (location for saving combined output) ###\n",
    "    output_dir = os.path.join(PWD, 'combined_csv_output/' + app_name)\n",
    "    print(output_dir)\n",
    "    if not os.path.exists(output_dir):\n",
    "        print(app_name, \"created\")\n",
    "        os.mkdir(output_dir)\n",
    "    else:\n",
    "        print(app_name, \"already exists\")\n",
    "\n",
    "    csv_file = \"result.csv\"\n",
    "    out_csv_file_dir = os.path.join(output_dir, csv_file)\n",
    "    print(out_csv_file_dir)\n",
    "\n",
    "    with open(out_csv_file_dir, 'w') as csvfile:\n",
    "        writer = csv.writer(csvfile)\n",
    "        writer.writerow(benign_dict.keys())\n",
    "        writer.writerows(zip(*benign_dict.values()))\n",
    "        writer.writerows(zip(*malicious_dict.values()))\n",
    "                "
   ]
  },
  {
   "cell_type": "code",
   "execution_count": 1,
   "metadata": {
    "scrolled": false
   },
   "outputs": [
    {
     "ename": "NameError",
     "evalue": "name 'get_malicious_benign_dict' is not defined",
     "output_type": "error",
     "traceback": [
      "\u001b[0;31m---------------------------------------------------------------------------\u001b[0m",
      "\u001b[0;31mNameError\u001b[0m                                 Traceback (most recent call last)",
      "\u001b[0;32m<ipython-input-1-b8c44afe73ad>\u001b[0m in \u001b[0;36m<module>\u001b[0;34m\u001b[0m\n\u001b[1;32m     10\u001b[0m \u001b[0mapp_name\u001b[0m \u001b[0;34m=\u001b[0m \u001b[0mapp_num\u001b[0m \u001b[0;34m+\u001b[0m \u001b[0;34m'com.happymaau.MathRef'\u001b[0m\u001b[0;34m\u001b[0m\u001b[0;34m\u001b[0m\u001b[0m\n\u001b[1;32m     11\u001b[0m \u001b[0;34m\u001b[0m\u001b[0m\n\u001b[0;32m---> 12\u001b[0;31m \u001b[0mmalicious_dict\u001b[0m\u001b[0;34m,\u001b[0m \u001b[0mbenign_dict\u001b[0m \u001b[0;34m=\u001b[0m \u001b[0mget_malicious_benign_dict\u001b[0m\u001b[0;34m(\u001b[0m\u001b[0mapp_name\u001b[0m\u001b[0;34m,\u001b[0m \u001b[0mapp_num\u001b[0m\u001b[0;34m)\u001b[0m\u001b[0;34m\u001b[0m\u001b[0;34m\u001b[0m\u001b[0m\n\u001b[0m\u001b[1;32m     13\u001b[0m \u001b[0mmake_one_csvfile\u001b[0m\u001b[0;34m(\u001b[0m\u001b[0mapp_name\u001b[0m\u001b[0;34m,\u001b[0m \u001b[0mbenign_dict\u001b[0m\u001b[0;34m,\u001b[0m \u001b[0mmalicious_dict\u001b[0m\u001b[0;34m)\u001b[0m\u001b[0;34m\u001b[0m\u001b[0;34m\u001b[0m\u001b[0m\n",
      "\u001b[0;31mNameError\u001b[0m: name 'get_malicious_benign_dict' is not defined"
     ]
    }
   ],
   "source": [
    "'''\n",
    "    NOTE:\n",
    "        app_name can be removed. (Then, replace app_name to app_num all the above)\n",
    "        app_name is composed of app_num plus package name, which can be obtained from Androguard get_package() API.\n",
    "        app_name can be the type of malware, such as DroidKungFu,\n",
    "        since we use the same numbers on different types of malware apps when downloading.\n",
    "        This might need modification later.\n",
    "'''\n",
    "app_num = '0'\n",
    "app_name = app_num + 'com.happymaau.MathRef'\n",
    "\n",
    "malicious_dict, benign_dict = get_malicious_benign_dict(app_name, app_num)\n",
    "make_one_csvfile(app_name, benign_dict, malicious_dict)"
   ]
  }
 ],
 "metadata": {
  "kernelspec": {
   "display_name": "Python 3",
   "language": "python",
   "name": "python3"
  },
  "language_info": {
   "codemirror_mode": {
    "name": "ipython",
    "version": 3
   },
   "file_extension": ".py",
   "mimetype": "text/x-python",
   "name": "python",
   "nbconvert_exporter": "python",
   "pygments_lexer": "ipython3",
   "version": "3.9.1"
  }
 },
 "nbformat": 4,
 "nbformat_minor": 4
}
