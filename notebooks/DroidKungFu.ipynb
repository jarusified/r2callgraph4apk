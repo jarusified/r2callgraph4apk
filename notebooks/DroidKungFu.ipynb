{
 "cells": [
  {
   "cell_type": "code",
   "execution_count": 1,
   "metadata": {},
   "outputs": [
    {
     "ename": "ModuleNotFoundError",
     "evalue": "No module named 'r2callgraph4apk'",
     "output_type": "error",
     "traceback": [
      "\u001b[0;31m------------------------------------------------------------------------\u001b[0m",
      "\u001b[0;31mModuleNotFoundError\u001b[0m                    Traceback (most recent call last)",
      "\u001b[0;32m<ipython-input-1-ac4feeba914b>\u001b[0m in \u001b[0;36m<module>\u001b[0;34m\u001b[0m\n\u001b[1;32m      2\u001b[0m \u001b[0;32mimport\u001b[0m \u001b[0mpandas\u001b[0m \u001b[0;32mas\u001b[0m \u001b[0mpd\u001b[0m\u001b[0;34m\u001b[0m\u001b[0;34m\u001b[0m\u001b[0m\n\u001b[1;32m      3\u001b[0m \u001b[0;32mimport\u001b[0m \u001b[0mjson\u001b[0m\u001b[0;34m\u001b[0m\u001b[0;34m\u001b[0m\u001b[0m\n\u001b[0;32m----> 4\u001b[0;31m \u001b[0;32mfrom\u001b[0m \u001b[0mr2callgraph4apk\u001b[0m \u001b[0;32mimport\u001b[0m \u001b[0mR2CallGraph4APK\u001b[0m\u001b[0;34m\u001b[0m\u001b[0;34m\u001b[0m\u001b[0m\n\u001b[0m",
      "\u001b[0;31mModuleNotFoundError\u001b[0m: No module named 'r2callgraph4apk'"
     ]
    }
   ],
   "source": [
    "import os\n",
    "import pandas as pd\n",
    "import json\n",
    "from r2callgraph4apk import R2CallGraph4APK"
   ]
  },
  {
   "cell_type": "code",
   "execution_count": null,
   "metadata": {},
   "outputs": [],
   "source": []
  },
  {
   "cell_type": "code",
   "execution_count": 4,
   "metadata": {},
   "outputs": [],
   "source": [
    "PWD = os.path.abspath(\"..\")\n",
    "DATA_DIR = os.path.join(PWD, \"data\")"
   ]
  },
  {
   "cell_type": "code",
   "execution_count": 9,
   "metadata": {},
   "outputs": [],
   "source": [
    "input_file = os.path.join(DATA_DIR, 'labels/names/proposed.json')"
   ]
  },
  {
   "cell_type": "code",
   "execution_count": 27,
   "metadata": {},
   "outputs": [
    {
     "name": "stdout",
     "output_type": "stream",
     "text": [
      "1.06 s ± 58.7 ms per loop (mean ± std. dev. of 7 runs, 1 loop each)\n"
     ]
    }
   ],
   "source": [
    "%%timeit\n",
    "with open(input_file) as f:\n",
    "    lines = json.loads(f.read())"
   ]
  },
  {
   "cell_type": "code",
   "execution_count": 32,
   "metadata": {},
   "outputs": [],
   "source": [
    "sha = \"ed25c1b82f9f877de3f6c5892a056ef7caa59ed91f4589f29f75674e8d731b0f\""
   ]
  },
  {
   "cell_type": "code",
   "execution_count": 33,
   "metadata": {},
   "outputs": [
    {
     "name": "stdout",
     "output_type": "stream",
     "text": [
      "mobcent\n"
     ]
    }
   ],
   "source": [
    "if sha in lines:\n",
    "    print(lines[sha])"
   ]
  },
  {
   "cell_type": "code",
   "execution_count": 20,
   "metadata": {},
   "outputs": [
    {
     "name": "stdout",
     "output_type": "stream",
     "text": [
      "  af3045458f74c2ccc367f2b3095f03dc51e9fba0c7c44a4ba04c82c6149b50b8  \\\n",
      "0                                             dowgin                 \n",
      "\n",
      "  ede143c9d3fa2bc66596276efa60b85022874c0e5f0f5a07b640f43e813f19d6  \\\n",
      "0                                             wooboo                 \n",
      "\n",
      "  8f5d54a2dfd883dce15c4b2d75cdd713648b5a71b9e927e7daae9c07343748c7  \\\n",
      "0                                             dowgin                 \n",
      "\n",
      "  83f2045d9b56031dae88c01c2e2c7df159ad3c070b332ccdc25b62a134cae879  \\\n",
      "0                                              kuguo                 \n",
      "\n",
      "  33a53ff00fb051d06c244436f1c64c3a08c94f3a42b135e19b3c830e340c0ddb  \\\n",
      "0                                              utchi                 \n",
      "\n",
      "  ed25c1b82f9f877de3f6c5892a056ef7caa59ed91f4589f29f75674e8d731b0f  \\\n",
      "0                                            mobcent                 \n",
      "\n",
      "  474e1b84768cce5f753ed8116b665190018f7914b1f481eb0cf08cb263527e92  \\\n",
      "0                                             revmob                 \n",
      "\n",
      "  9548bfd0417aa9f041c6b95e0fd4edda1384e448a00a228eed7aec7133c83751  \\\n",
      "0                                            anydown                 \n",
      "\n",
      "  7ef6e8b2d50dfd743715c96d6730e71b1aa1b57c7bb43b64de599a336a72fe46  \\\n",
      "0                                        droidkungfu                 \n",
      "\n",
      "  3b03bb59772e5a258bf56193dbed1dab7807e5cea0f058686eec2cac6c9d9475  ...  \\\n",
      "0                                              youmi                ...   \n",
      "\n",
      "  5d6d2ee895878f2d22c1debefc3f162486c386ee82445220093ff9c95cd4512a  \\\n",
      "0                                              kuguo                 \n",
      "\n",
      "  85c63a1514188989f41bbdd46ca3514156e40cc4dfa4db341c39d8a3c59c8d11  \\\n",
      "0                                             dowgin                 \n",
      "\n",
      "  11d70db496404356a34a5a534fd01bf98e47fcdc8dadc749db809948cc3615cf  \\\n",
      "0                                              youmi                 \n",
      "\n",
      "  7cbfb3ceeef6738a894d1ac39d3ccb759af9ad63a61615ce2a3762da36c39a34  \\\n",
      "0                                              umeng                 \n",
      "\n",
      "  5456f2b3a36a5a0e6446a6421e988255991bab34935ec0e68f80667d6694da1f  \\\n",
      "0                                            artemis                 \n",
      "\n",
      "  5a0d49f2d4acbd40d838cb645e48aa8f1fe70cc9ee5de03cdf6422cc9260a398  \\\n",
      "0                                             dowgin                 \n",
      "\n",
      "  6dbaba8552c1d5f6edde6c0b48498887a922ea27557f3178958fb7b85c5c667a  \\\n",
      "0                                             wooboo                 \n",
      "\n",
      "  a2d3c8c7f7118f24c97b0ed91d20debf0f12d8d774c2dba4479fc5aa91dc67b2  \\\n",
      "0                                             dowgin                 \n",
      "\n",
      "  ff82baff68346739aa95bd38a48f3168d1c23d7c1cb3ef5e8feb0348eaed3c3c  \\\n",
      "0                                              youmi                 \n",
      "\n",
      "  f73e1df853668317077e3a72f3cdf4c23e675d5812025505243e38ed1c0a2237  \n",
      "0                                             dowgin                \n",
      "\n",
      "[1 rows x 1302969 columns]\n"
     ]
    }
   ],
   "source": [
    "print(df_final)"
   ]
  }
 ],
 "metadata": {
  "kernelspec": {
   "display_name": "Python 3.7.6 64-bit",
   "language": "python",
   "name": "python37664bit3a5637fa2c7f4443bca7a2894d18d23d"
  },
  "language_info": {
   "codemirror_mode": {
    "name": "ipython",
    "version": 3
   },
   "file_extension": ".py",
   "mimetype": "text/x-python",
   "name": "python",
   "nbconvert_exporter": "python",
   "pygments_lexer": "ipython3",
   "version": "3.7.7"
  }
 },
 "nbformat": 4,
 "nbformat_minor": 4
}
