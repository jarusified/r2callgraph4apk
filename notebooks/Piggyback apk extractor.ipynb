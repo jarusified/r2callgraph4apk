{
 "cells": [
  {
   "cell_type": "code",
   "execution_count": 1,
   "metadata": {},
   "outputs": [],
   "source": [
    "import os\n",
    "import pandas as pd"
   ]
  },
  {
   "cell_type": "code",
   "execution_count": 2,
   "metadata": {},
   "outputs": [],
   "source": [
    "# Figure out path to pwd and data dir\n",
    "_pwd = os.path.abspath(\"..\")\n",
    "_data_dir = os.path.join(_pwd, \"data\")"
   ]
  },
  {
   "cell_type": "code",
   "execution_count": 3,
   "metadata": {},
   "outputs": [],
   "source": [
    "# Point your csv file here.\n",
    "# Data can be collected from https://github.com/serval-snt-uni-lu/Piggybacking/blob/master/ground-truth/all-pairs.csv\n",
    "_apk_csv = os.path.join(_data_dir, 'piggyback-all-pairs.csv')"
   ]
  },
  {
   "cell_type": "code",
   "execution_count": 4,
   "metadata": {},
   "outputs": [
    {
     "name": "stdout",
     "output_type": "stream",
     "text": [
      "e03b3548509b2b94d502314ca0f5cf7012c0357b18e6bea07071dec729c00c25\n"
     ]
    }
   ],
   "source": [
    "API_KEY=open(os.path.join(_pwd, 'ANDROZOO_API_KEY.txt'),\"r\").read()\n",
    "print(API_KEY)"
   ]
  },
  {
   "cell_type": "code",
   "execution_count": 5,
   "metadata": {},
   "outputs": [],
   "source": [
    "# Read the CSV\n",
    "apk_df = pd.read_csv(_apk_csv)"
   ]
  },
  {
   "cell_type": "code",
   "execution_count": 6,
   "metadata": {
    "scrolled": true
   },
   "outputs": [
    {
     "data": {
      "text/plain": [
       "B45EB1CB7A931D963970F96150675F73926A3140D5376FF7A355FB07F4F55992    56\n",
       "CE81D0A16CDCA3C6CCEB9A6607A47DC9DEBB7B7C9B84638263580F43427D4DFF    56\n",
       "1DAF15DFCE13770C5CA76FAE2E1EE93EF62E56A267A6BE87D27C088FA9790870     3\n",
       "A932CB38A67021F65A4FBA882E5B25FFA584036CD8BC617307E59F73F1398C63     3\n",
       "CCC96109AB08504F4D1555A2B0F79AEB61D500463696E28159845FF65686AE03     3\n",
       "                                                                    ..\n",
       "81BEF3408E9036E4CAD808BDF2D522C8AD50F8C6CAC2E0FE3EDEA2D590D66A76     1\n",
       "B69DB1ECD30380C70F7BDFF3E5B2DB845277653AC949B01D261DA2C78A3510C6     1\n",
       "F5A2A7799AD591E114F34F494A234CE3516B46936DC63AE52EF8A8B4A0E7890C     1\n",
       "3A29739071B89C4DAA188000AA2F63D8378B33AF6378B74A5CFB73AC542C5508     1\n",
       "670BD04500567720057DDC07C8B990B4FA791CDAAE2EA476539F51CE15474A06     1\n",
       "Name: ORIGINAL_APP, Length: 1355, dtype: int64"
      ]
     },
     "execution_count": 6,
     "metadata": {},
     "output_type": "execute_result"
    }
   ],
   "source": [
    "# Find number of malicious apks for each benign apk.\n",
    "apk_df['ORIGINAL_APP'].value_counts()"
   ]
  },
  {
   "cell_type": "code",
   "execution_count": 7,
   "metadata": {},
   "outputs": [],
   "source": [
    "# Request the AndroZoo API for the apk and write it to a directory\n",
    "# \n",
    "# params: \n",
    "#     api_key: Private key to the AndroZoo API\n",
    "#     sha256: sha256 of the apk \n",
    "#    data_dir: directory to save the file. \n",
    "def request_apk_andro(api_key, sha256, data_dir):\n",
    "    import requests\n",
    "    url = \"https://androzoo.uni.lu/api/download?\"\n",
    "\n",
    "    packaged_url = url + 'apikey=' + api_key + '&sha256=' + sha256\n",
    "    print(\"Requesting\", packaged_url)\n",
    "    r = requests.get(packaged_url)\n",
    "    \n",
    "    filename = os.path.join(data_dir, sha256 + \".apk\")\n",
    "    with open(filename, 'wb') as fd:\n",
    "        for chunk in r.iter_content(chunk_size=128):\n",
    "            fd.write(chunk)"
   ]
  },
  {
   "cell_type": "code",
   "execution_count": 10,
   "metadata": {},
   "outputs": [],
   "source": [
    "# Gets all malicious apks for a corresponding benign apk. \n",
    "# The benign apks are stored in \n",
    "# \n",
    "# params: \n",
    "#     df: DataFrame with columns \"ORIGINAL_APP\" and \"PIGGYBACKED_APP\"\n",
    "#     b_sha256: benign apk's sha256\n",
    "#     data_dir: directory to save the file. \n",
    "def get_all_malicious(df, b_sha256, data_dir):\n",
    "    malicious_sha_list = df.loc[df['ORIGINAL_APP'] == b_sha256]['PIGGYBACKED_APP']\n",
    "    \n",
    "    benign_folder_path = os.path.join(data_dir, \"benign\")\n",
    "    print(benign_folder_path)\n",
    "\n",
    "    if not os.path.isdir(benign_folder_path):\n",
    "        os.makedirs(benign_folder_path)\n",
    "\n",
    "    request_apk_andro(API_KEY, str(b_sc), benign_folder_path)\n",
    "    \n",
    "    malicious_folder_path = os.path.join(data_dir, \"malicious\")\n",
    "    print(malicious_folder_path)\n",
    "    if not os.path.isdir(malicious_folder_path):\n",
    "        os.makedirs(malicious_folder_path)\n",
    "    \n",
    "    for malicious_sha256 in malicious_sha_list:\n",
    "        request_apk_andro(API_KEY, str(malicious_sha256), malicious_folder_path)"
   ]
  },
  {
   "cell_type": "code",
   "execution_count": 11,
   "metadata": {},
   "outputs": [
    {
     "name": "stdout",
     "output_type": "stream",
     "text": [
      "/Users/jarus/Work/r2callgraph4apk/data/app_0/benign\n"
     ]
    },
    {
     "ename": "NameError",
     "evalue": "name 'benign_sha256' is not defined",
     "output_type": "error",
     "traceback": [
      "\u001b[0;31m---------------------------------------------------------------------------\u001b[0m",
      "\u001b[0;31mNameError\u001b[0m                                 Traceback (most recent call last)",
      "\u001b[0;32m<ipython-input-11-4025df2a4931>\u001b[0m in \u001b[0;36m<module>\u001b[0;34m\u001b[0m\n\u001b[1;32m      1\u001b[0m \u001b[0;32mfor\u001b[0m \u001b[0midx\u001b[0m\u001b[0;34m,\u001b[0m \u001b[0msha256\u001b[0m \u001b[0;32min\u001b[0m \u001b[0menumerate\u001b[0m\u001b[0;34m(\u001b[0m\u001b[0mapk_df\u001b[0m\u001b[0;34m[\u001b[0m\u001b[0;34m'ORIGINAL_APP'\u001b[0m\u001b[0;34m]\u001b[0m\u001b[0;34m.\u001b[0m\u001b[0munique\u001b[0m\u001b[0;34m(\u001b[0m\u001b[0;34m)\u001b[0m\u001b[0;34m.\u001b[0m\u001b[0mtolist\u001b[0m\u001b[0;34m(\u001b[0m\u001b[0;34m)\u001b[0m\u001b[0;34m[\u001b[0m\u001b[0;34m:\u001b[0m\u001b[0;36m1\u001b[0m\u001b[0;34m]\u001b[0m\u001b[0;34m)\u001b[0m\u001b[0;34m:\u001b[0m\u001b[0;34m\u001b[0m\u001b[0;34m\u001b[0m\u001b[0m\n\u001b[0;32m----> 2\u001b[0;31m     \u001b[0mget_all_malicious\u001b[0m\u001b[0;34m(\u001b[0m\u001b[0mapk_df\u001b[0m\u001b[0;34m,\u001b[0m \u001b[0msha256\u001b[0m\u001b[0;34m,\u001b[0m \u001b[0mos\u001b[0m\u001b[0;34m.\u001b[0m\u001b[0mpath\u001b[0m\u001b[0;34m.\u001b[0m\u001b[0mjoin\u001b[0m\u001b[0;34m(\u001b[0m\u001b[0m_data_dir\u001b[0m\u001b[0;34m,\u001b[0m \u001b[0;34mf\"app_{idx}\"\u001b[0m\u001b[0;34m)\u001b[0m\u001b[0;34m)\u001b[0m\u001b[0;34m\u001b[0m\u001b[0;34m\u001b[0m\u001b[0m\n\u001b[0m",
      "\u001b[0;32m<ipython-input-10-2ab00f28b12b>\u001b[0m in \u001b[0;36mget_all_malicious\u001b[0;34m(df, b_sha256, data_dir)\u001b[0m\n\u001b[1;32m     15\u001b[0m         \u001b[0mos\u001b[0m\u001b[0;34m.\u001b[0m\u001b[0mmakedirs\u001b[0m\u001b[0;34m(\u001b[0m\u001b[0mbenign_folder_path\u001b[0m\u001b[0;34m)\u001b[0m\u001b[0;34m\u001b[0m\u001b[0;34m\u001b[0m\u001b[0m\n\u001b[1;32m     16\u001b[0m \u001b[0;34m\u001b[0m\u001b[0m\n\u001b[0;32m---> 17\u001b[0;31m     \u001b[0mrequest_apk_andro\u001b[0m\u001b[0;34m(\u001b[0m\u001b[0mAPI_KEY\u001b[0m\u001b[0;34m,\u001b[0m \u001b[0mstr\u001b[0m\u001b[0;34m(\u001b[0m\u001b[0mbenign_sha256\u001b[0m\u001b[0;34m)\u001b[0m\u001b[0;34m,\u001b[0m \u001b[0mbenign_folder_path\u001b[0m\u001b[0;34m)\u001b[0m\u001b[0;34m\u001b[0m\u001b[0;34m\u001b[0m\u001b[0m\n\u001b[0m\u001b[1;32m     18\u001b[0m \u001b[0;34m\u001b[0m\u001b[0m\n\u001b[1;32m     19\u001b[0m     \u001b[0mmalicious_folder_path\u001b[0m \u001b[0;34m=\u001b[0m \u001b[0mos\u001b[0m\u001b[0;34m.\u001b[0m\u001b[0mpath\u001b[0m\u001b[0;34m.\u001b[0m\u001b[0mjoin\u001b[0m\u001b[0;34m(\u001b[0m\u001b[0mdata_dir\u001b[0m\u001b[0;34m,\u001b[0m \u001b[0;34m\"malicious\"\u001b[0m\u001b[0;34m)\u001b[0m\u001b[0;34m\u001b[0m\u001b[0;34m\u001b[0m\u001b[0m\n",
      "\u001b[0;31mNameError\u001b[0m: name 'benign_sha256' is not defined"
     ]
    }
   ],
   "source": [
    "for idx, sha256 in enumerate(apk_df['ORIGINAL_APP'].unique().tolist()[:1]):\n",
    "    get_all_malicious(apk_df, sha256, os.path.join(_data_dir, f\"app_{idx}\"))"
   ]
  },
  {
   "cell_type": "code",
   "execution_count": null,
   "metadata": {},
   "outputs": [],
   "source": []
  }
 ],
 "metadata": {
  "kernelspec": {
   "display_name": "Python 3.7.6 64-bit",
   "language": "python",
   "name": "python37664bit3a5637fa2c7f4443bca7a2894d18d23d"
  },
  "language_info": {
   "codemirror_mode": {
    "name": "ipython",
    "version": 3
   },
   "file_extension": ".py",
   "mimetype": "text/x-python",
   "name": "python",
   "nbconvert_exporter": "python",
   "pygments_lexer": "ipython3",
   "version": "3.7.7"
  }
 },
 "nbformat": 4,
 "nbformat_minor": 4
}
