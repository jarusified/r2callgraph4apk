{
 "cells": [
  {
   "cell_type": "code",
   "execution_count": 1,
   "metadata": {},
   "outputs": [],
   "source": [
    "import os\n",
    "import pandas as pd"
   ]
  },
  {
   "cell_type": "code",
   "execution_count": 2,
   "metadata": {},
   "outputs": [],
   "source": [
    "# Figure out path to pwd and data dir\n",
    "_pwd = os.path.abspath(\"..\")\n",
    "_data_dir = os.path.join(_pwd, \"data\")"
   ]
  },
  {
   "cell_type": "code",
   "execution_count": 4,
   "metadata": {},
   "outputs": [],
   "source": [
    "# Point your csv file here.\n",
    "# Data can be collected from https://github.com/serval-snt-uni-lu/Piggybacking/blob/master/ground-truth/all-pairs.csv\n",
    "_apk_csv = os.path.join(_data_dir, 'piggyback-all-pairs.csv')"
   ]
  },
  {
   "cell_type": "code",
   "execution_count": 5,
   "metadata": {},
   "outputs": [
    {
     "name": "stdout",
     "output_type": "stream",
     "text": [
      "e03b3548509b2b94d502314ca0f5cf7012c0357b18e6bea07071dec729c00c25\n"
     ]
    }
   ],
   "source": [
    "API_KEY=open(os.path.join(_pwd, 'ANDROZOO_API_KEY.txt'),\"r\").read()\n",
    "print(API_KEY)"
   ]
  },
  {
   "cell_type": "code",
   "execution_count": 5,
   "metadata": {},
   "outputs": [],
   "source": [
    "# Read the CSV\n",
    "apk_df = pd.read_csv(_apk_csv)"
   ]
  },
  {
   "cell_type": "code",
   "execution_count": 8,
   "metadata": {},
   "outputs": [
    {
     "data": {
      "text/html": [
       "<div>\n",
       "<style scoped>\n",
       "    .dataframe tbody tr th:only-of-type {\n",
       "        vertical-align: middle;\n",
       "    }\n",
       "\n",
       "    .dataframe tbody tr th {\n",
       "        vertical-align: top;\n",
       "    }\n",
       "\n",
       "    .dataframe thead th {\n",
       "        text-align: right;\n",
       "    }\n",
       "</style>\n",
       "<table border=\"1\" class=\"dataframe\">\n",
       "  <thead>\n",
       "    <tr style=\"text-align: right;\">\n",
       "      <th></th>\n",
       "      <th>ORIGINAL_APP</th>\n",
       "      <th>PIGGYBACKED_APP</th>\n",
       "    </tr>\n",
       "  </thead>\n",
       "  <tbody>\n",
       "    <tr>\n",
       "      <th>0</th>\n",
       "      <td>00575DE650F78413C91E8E613ADF9099812F325AA9CF36...</td>\n",
       "      <td>A55EA5807203CE31470D1905ED30F9267AE3459809DDA2...</td>\n",
       "    </tr>\n",
       "    <tr>\n",
       "      <th>1</th>\n",
       "      <td>006009DB95496D4E42281EB18C6E5CA81132DE1489F690...</td>\n",
       "      <td>B5610062146D79CA6CDFDCA2F42555AEE3C5317FDDA76B...</td>\n",
       "    </tr>\n",
       "    <tr>\n",
       "      <th>2</th>\n",
       "      <td>009D7E035C1A41CCEA8F4332506F3F65B14C673750C1FD...</td>\n",
       "      <td>03E4B7D80A9CB3C2169F2CF4BAD1EDFBE14D5A3EB5DFC7...</td>\n",
       "    </tr>\n",
       "    <tr>\n",
       "      <th>3</th>\n",
       "      <td>00B04CDA4F1C6F3A838B0303EC6142D7420164555F08BF...</td>\n",
       "      <td>A7CB7B66EB8AF4F27DC856C942AE2B35505B848A4C891E...</td>\n",
       "    </tr>\n",
       "    <tr>\n",
       "      <th>4</th>\n",
       "      <td>00C381F40F4084F98CE6C7A9A32A1BBC890123E9244F77...</td>\n",
       "      <td>2DC27146F98E2C993F38E0AF9A1604430C98E8861353A2...</td>\n",
       "    </tr>\n",
       "    <tr>\n",
       "      <th>...</th>\n",
       "      <td>...</td>\n",
       "      <td>...</td>\n",
       "    </tr>\n",
       "    <tr>\n",
       "      <th>1492</th>\n",
       "      <td>FF2C4EEFD1DF8612214CA7C301067ECE8259161A11BA4A...</td>\n",
       "      <td>88DD0EDE396923D0C3C059C8325673E9D24A65FAA1DCF8...</td>\n",
       "    </tr>\n",
       "    <tr>\n",
       "      <th>1493</th>\n",
       "      <td>FF4C46846ACBFFC38E8FFBBDA515EC226196260055D062...</td>\n",
       "      <td>1F7BEAA3824CF73D6450A48EEAC46307FC58E52A65AB1C...</td>\n",
       "    </tr>\n",
       "    <tr>\n",
       "      <th>1494</th>\n",
       "      <td>FF796142209D76DC073DD65F06F2362685E02B689418D2...</td>\n",
       "      <td>95ED7B2A52B9491D5BF3518E3C6A6D1EC613B261758F87...</td>\n",
       "    </tr>\n",
       "    <tr>\n",
       "      <th>1495</th>\n",
       "      <td>FFDE8B674AE70E27D04303EAEB8B6DA2B28BA5341848E2...</td>\n",
       "      <td>DB2CB6BC378FA5ED47047D5AA332F69A4F4663CDA3C9AF...</td>\n",
       "    </tr>\n",
       "    <tr>\n",
       "      <th>1496</th>\n",
       "      <td>FFE44A8695CCEB4979825C54A29B4CB9765057308A97E4...</td>\n",
       "      <td>1CA20CC2CCF0E981781B25BAD314098A168B6FAF848393...</td>\n",
       "    </tr>\n",
       "  </tbody>\n",
       "</table>\n",
       "<p>1497 rows × 2 columns</p>\n",
       "</div>"
      ],
      "text/plain": [
       "                                           ORIGINAL_APP  \\\n",
       "0     00575DE650F78413C91E8E613ADF9099812F325AA9CF36...   \n",
       "1     006009DB95496D4E42281EB18C6E5CA81132DE1489F690...   \n",
       "2     009D7E035C1A41CCEA8F4332506F3F65B14C673750C1FD...   \n",
       "3     00B04CDA4F1C6F3A838B0303EC6142D7420164555F08BF...   \n",
       "4     00C381F40F4084F98CE6C7A9A32A1BBC890123E9244F77...   \n",
       "...                                                 ...   \n",
       "1492  FF2C4EEFD1DF8612214CA7C301067ECE8259161A11BA4A...   \n",
       "1493  FF4C46846ACBFFC38E8FFBBDA515EC226196260055D062...   \n",
       "1494  FF796142209D76DC073DD65F06F2362685E02B689418D2...   \n",
       "1495  FFDE8B674AE70E27D04303EAEB8B6DA2B28BA5341848E2...   \n",
       "1496  FFE44A8695CCEB4979825C54A29B4CB9765057308A97E4...   \n",
       "\n",
       "                                        PIGGYBACKED_APP  \n",
       "0     A55EA5807203CE31470D1905ED30F9267AE3459809DDA2...  \n",
       "1     B5610062146D79CA6CDFDCA2F42555AEE3C5317FDDA76B...  \n",
       "2     03E4B7D80A9CB3C2169F2CF4BAD1EDFBE14D5A3EB5DFC7...  \n",
       "3     A7CB7B66EB8AF4F27DC856C942AE2B35505B848A4C891E...  \n",
       "4     2DC27146F98E2C993F38E0AF9A1604430C98E8861353A2...  \n",
       "...                                                 ...  \n",
       "1492  88DD0EDE396923D0C3C059C8325673E9D24A65FAA1DCF8...  \n",
       "1493  1F7BEAA3824CF73D6450A48EEAC46307FC58E52A65AB1C...  \n",
       "1494  95ED7B2A52B9491D5BF3518E3C6A6D1EC613B261758F87...  \n",
       "1495  DB2CB6BC378FA5ED47047D5AA332F69A4F4663CDA3C9AF...  \n",
       "1496  1CA20CC2CCF0E981781B25BAD314098A168B6FAF848393...  \n",
       "\n",
       "[1497 rows x 2 columns]"
      ]
     },
     "execution_count": 8,
     "metadata": {},
     "output_type": "execute_result"
    }
   ],
   "source": [
    "apk_df"
   ]
  },
  {
   "cell_type": "code",
   "execution_count": 6,
   "metadata": {
    "scrolled": true
   },
   "outputs": [
    {
     "data": {
      "text/plain": [
       "CE81D0A16CDCA3C6CCEB9A6607A47DC9DEBB7B7C9B84638263580F43427D4DFF    56\n",
       "B45EB1CB7A931D963970F96150675F73926A3140D5376FF7A355FB07F4F55992    56\n",
       "1DAF15DFCE13770C5CA76FAE2E1EE93EF62E56A267A6BE87D27C088FA9790870     3\n",
       "CCC96109AB08504F4D1555A2B0F79AEB61D500463696E28159845FF65686AE03     3\n",
       "A932CB38A67021F65A4FBA882E5B25FFA584036CD8BC617307E59F73F1398C63     3\n",
       "                                                                    ..\n",
       "51DC034AB4E1BC60F615F4B64D2789338D42956F37C238196071C6DBDAAE6AF4     1\n",
       "86443B8F2A6FBE9867F264A933F011CABA9F409032B7E305A0BF25934B79FA36     1\n",
       "D73500CA6776ABBDD265764B40C1B360888A4DF126A7647CFE171522AA15EB3B     1\n",
       "C1EBC944969194FD783C7B732418F7B81D763C246A80D1355BC336CA5DE32D3B     1\n",
       "9FB15E645F7CC65AFC9BDE72C92F63DDA44E0E6F4C4AA19D7DD4402FE3A3716B     1\n",
       "Name: ORIGINAL_APP, Length: 1355, dtype: int64"
      ]
     },
     "execution_count": 6,
     "metadata": {},
     "output_type": "execute_result"
    }
   ],
   "source": [
    "# Find number of malicious apks for each benign apk.\n",
    "apk_df['ORIGINAL_APP'].value_counts()"
   ]
  },
  {
   "cell_type": "code",
   "execution_count": 9,
   "metadata": {},
   "outputs": [],
   "source": [
    "# Request the AndroZoo API for the apk and write it to a directory\n",
    "# \n",
    "# params: \n",
    "#     api_key: Private key to the AndroZoo API\n",
    "#     sha256: sha256 of the apk \n",
    "#    data_dir: directory to save the file. \n",
    "def request_apk_andro(api_key, sha256, data_dir):\n",
    "    import requests\n",
    "    url = \"https://androzoo.uni.lu/api/download?\"\n",
    "\n",
    "    packaged_url = url + 'apikey=' + api_key + '&sha256=' + sha256\n",
    "    print(\"Requesting\", packaged_url)\n",
    "    r = requests.get(packaged_url)\n",
    "    \n",
    "    filename = os.path.join(data_dir, sha256 + \".apk\")\n",
    "    with open(filename, 'wb') as fd:\n",
    "        for chunk in r.iter_content(chunk_size=128):\n",
    "            fd.write(chunk)"
   ]
  },
  {
   "cell_type": "code",
   "execution_count": 10,
   "metadata": {},
   "outputs": [],
   "source": [
    "# Gets all malicious apks for a corresponding benign apk. \n",
    "# The benign apks are stored in \n",
    "# \n",
    "# params: \n",
    "#     df: DataFrame with columns \"ORIGINAL_APP\" and \"PIGGYBACKED_APP\"\n",
    "#     b_sha256: benign apk's sha256\n",
    "#     data_dir: directory to save the file. \n",
    "def get_all_malicious(df, b_sha256, data_dir):\n",
    "    malicious_sha_list = df.loc[df['ORIGINAL_APP'] == b_sha256]['PIGGYBACKED_APP']\n",
    "    \n",
    "    benign_folder_path = os.path.join(data_dir, \"benign\")\n",
    "    print(benign_folder_path)\n",
    "\n",
    "    if not os.path.isdir(benign_folder_path):\n",
    "        os.makedirs(benign_folder_path)\n",
    "\n",
    "    request_apk_andro(API_KEY, str(b_sha256), benign_folder_path)\n",
    "    \n",
    "    malicious_folder_path = os.path.join(data_dir, \"malicious\")\n",
    "    print(malicious_folder_path)\n",
    "    if not os.path.isdir(malicious_folder_path):\n",
    "        os.makedirs(malicious_folder_path)\n",
    "    \n",
    "    for malicious_sha256 in malicious_sha_list:\n",
    "        request_apk_andro(API_KEY, str(malicious_sha256), malicious_folder_path)"
   ]
  },
  {
   "cell_type": "code",
   "execution_count": 12,
   "metadata": {},
   "outputs": [
    {
     "name": "stdout",
     "output_type": "stream",
     "text": [
      "/Users/jarus/Work/r2callgraph4apk/data/app_11/benign\n",
      "Requesting https://androzoo.uni.lu/api/download?apikey=e03b3548509b2b94d502314ca0f5cf7012c0357b18e6bea07071dec729c00c25&sha256=86443B8F2A6FBE9867F264A933F011CABA9F409032B7E305A0BF25934B79FA36\n",
      "/Users/jarus/Work/r2callgraph4apk/data/app_11/malicious\n",
      "Requesting https://androzoo.uni.lu/api/download?apikey=e03b3548509b2b94d502314ca0f5cf7012c0357b18e6bea07071dec729c00c25&sha256=1BEC3EC4B07E41F99B8D62CB4C7323B0702ADC6F5D0F576E1DD32B035D1636FE\n"
     ]
    }
   ],
   "source": [
    "# for idx, sha256 in enumerate(apk_df['ORIGINAL_APP'].unique().tolist()[:1]):\n",
    "sha256 = \"86443B8F2A6FBE9867F264A933F011CABA9F409032B7E305A0BF25934B79FA36\"\n",
    "get_all_malicious(apk_df, sha256, os.path.join(_data_dir, f\"app_{11}\"))"
   ]
  },
  {
   "cell_type": "code",
   "execution_count": null,
   "metadata": {},
   "outputs": [],
   "source": []
  }
 ],
 "metadata": {
  "kernelspec": {
   "display_name": "Python 3.7.6 64-bit",
   "language": "python",
   "name": "python37664bit3a5637fa2c7f4443bca7a2894d18d23d"
  },
  "language_info": {
   "codemirror_mode": {
    "name": "ipython",
    "version": 3
   },
   "file_extension": ".py",
   "mimetype": "text/x-python",
   "name": "python",
   "nbconvert_exporter": "python",
   "pygments_lexer": "ipython3",
   "version": "3.7.7"
  }
 },
 "nbformat": 4,
 "nbformat_minor": 4
}
