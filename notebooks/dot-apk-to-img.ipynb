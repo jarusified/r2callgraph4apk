{
 "cells": [
  {
   "cell_type": "code",
   "execution_count": 1,
   "metadata": {},
   "outputs": [],
   "source": [
    "import multiprocessing\n",
    "from tqdm import tqdm\n",
    "import numpy as np\n",
    "import imageio\n",
    "import array\n",
    "import os\n",
    "\n",
    "\n",
    "def generate_and_save_image(input_filename, output_filename, width):\n",
    "    f = open(input_filename, 'rb')\n",
    "    ln = os.path.getsize(input_filename)  # length of file in bytes\n",
    "    if width == 0:\n",
    "        width = ln\n",
    "    rem = ln % width\n",
    "    a = array.array(\"B\")  # uint8 array\n",
    "    a.fromfile(f, ln - rem)\n",
    "    f.close()\n",
    "    g = np.reshape(a, (len(a) // width, width))\n",
    "    g = np.uint8(g)\n",
    "    imageio.imwrite(output_filename, g)  # save the image\n",
    "\n",
    "\n",
    "def convert_bin_to_img(input_dir, width, max_files=0):\n",
    "    output_dir = input_dir + '_width_' + str(width)\n",
    "    if not os.path.isdir(output_dir):\n",
    "        os.mkdir(output_dir)\n",
    "\n",
    "    list_dirs = os.listdir(input_dir)\n",
    "    with multiprocessing.Pool(multiprocessing.cpu_count()) as pool:\n",
    "\n",
    "        jobs = []\n",
    "        results = []\n",
    "        total_count = 0\n",
    "\n",
    "        for dirname in list_dirs:\n",
    "            list_files = os.listdir(os.path.join(input_dir, dirname))\n",
    "            count = 0\n",
    "            for filename in list_files:\n",
    "                input_filename = os.path.join(input_dir, dirname, filename)\n",
    "                try:\n",
    "                    output_filename = os.path.splitext(os.path.basename(input_filename))[0] + '.png'\n",
    "                    output_class_dir = os.path.join(output_dir, dirname)\n",
    "                    if not os.path.isdir(output_class_dir):\n",
    "                        os.mkdir(output_class_dir)\n",
    "                    output_filename = os.path.join(output_dir, dirname, output_filename)\n",
    "\n",
    "                    jobs.append(\n",
    "                        pool.apply_async(generate_and_save_image, (input_filename, output_filename, width)))\n",
    "                    count += 1\n",
    "                    if max_files > 0 and max_files == count:\n",
    "                        break\n",
    "                except:\n",
    "                    print('Ignoring ', filename)\n",
    "\n",
    "            total_count += count\n",
    "        tqdm_desc = 'Converting Malware bins to images for width ' + str(width)\n",
    "        for job in tqdm(jobs, desc=tqdm_desc):\n",
    "            results.append(job.get())"
   ]
  },
  {
   "cell_type": "code",
   "execution_count": 3,
   "metadata": {},
   "outputs": [
    {
     "ename": "NameError",
     "evalue": "name 'dx' is not defined",
     "output_type": "error",
     "traceback": [
      "\u001b[0;31m-------------------------------------------------\u001b[0m",
      "\u001b[0;31mNameError\u001b[0m       Traceback (most recent call last)",
      "\u001b[0;32m<ipython-input-3-babbe313e9ca>\u001b[0m in \u001b[0;36m<module>\u001b[0;34m\u001b[0m\n\u001b[0;32m----> 1\u001b[0;31m \u001b[0;32mfor\u001b[0m \u001b[0mmethod\u001b[0m \u001b[0;32min\u001b[0m \u001b[0mdx\u001b[0m\u001b[0;34m.\u001b[0m\u001b[0mget_methods\u001b[0m\u001b[0;34m(\u001b[0m\u001b[0;34m)\u001b[0m\u001b[0;34m:\u001b[0m\u001b[0;34m\u001b[0m\u001b[0;34m\u001b[0m\u001b[0m\n\u001b[0m\u001b[1;32m      2\u001b[0m     \u001b[0;32mif\u001b[0m \u001b[0mmethod\u001b[0m\u001b[0;34m.\u001b[0m\u001b[0mis_external\u001b[0m\u001b[0;34m(\u001b[0m\u001b[0;34m)\u001b[0m\u001b[0;34m:\u001b[0m\u001b[0;34m\u001b[0m\u001b[0;34m\u001b[0m\u001b[0m\n\u001b[1;32m      3\u001b[0m         \u001b[0;32mcontinue\u001b[0m\u001b[0;34m\u001b[0m\u001b[0;34m\u001b[0m\u001b[0m\n\u001b[1;32m      4\u001b[0m     \u001b[0;31m# Need to get the EncodedMethod from the MethodClassAnalysis object\u001b[0m\u001b[0;34m\u001b[0m\u001b[0;34m\u001b[0m\u001b[0;34m\u001b[0m\u001b[0m\n\u001b[1;32m      5\u001b[0m     \u001b[0mm\u001b[0m \u001b[0;34m=\u001b[0m \u001b[0mmethod\u001b[0m\u001b[0;34m.\u001b[0m\u001b[0mget_method\u001b[0m\u001b[0;34m(\u001b[0m\u001b[0;34m)\u001b[0m\u001b[0;34m\u001b[0m\u001b[0;34m\u001b[0m\u001b[0m\n",
      "\u001b[0;31mNameError\u001b[0m: name 'dx' is not defined"
     ]
    }
   ],
   "source": [
    "    "
   ]
  },
  {
   "cell_type": "code",
   "execution_count": null,
   "metadata": {},
   "outputs": [],
   "source": [
    "max_files = 0 \n",
    "list_of_widths = [0, 1, 64, 128, 256, 512, 1024]\n",
    "for width in list_of_widths:\n",
    "    convert_bin_to_img(, width, max_files=max_files)"
   ]
  }
 ],
 "metadata": {
  "kernelspec": {
   "display_name": "Python 3",
   "language": "python",
   "name": "python3"
  },
  "language_info": {
   "codemirror_mode": {
    "name": "ipython",
    "version": 3
   },
   "file_extension": ".py",
   "mimetype": "text/x-python",
   "name": "python",
   "nbconvert_exporter": "python",
   "pygments_lexer": "ipython3",
   "version": "3.7.7"
  }
 },
 "nbformat": 4,
 "nbformat_minor": 4
}
